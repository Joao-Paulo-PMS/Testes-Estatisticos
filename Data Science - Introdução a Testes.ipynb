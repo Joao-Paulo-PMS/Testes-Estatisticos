{
 "cells": [
  {
   "cell_type": "code",
   "execution_count": 1,
   "id": "0f096285-62b1-49db-a4f7-9924e1da604e",
   "metadata": {},
   "outputs": [],
   "source": [
    "import pandas as pd"
   ]
  },
  {
   "cell_type": "code",
   "execution_count": 2,
   "id": "3c7d2c28-2d78-493c-8b03-73638506f6a0",
   "metadata": {},
   "outputs": [],
   "source": [
    "import numpy as np\n",
    "import seaborn as sns\n",
    "import matplotlib.pyplot as plt"
   ]
  },
  {
   "cell_type": "code",
   "execution_count": 3,
   "id": "15523471-45a6-4039-916d-303f9a5f407f",
   "metadata": {},
   "outputs": [],
   "source": [
    "tmdb = pd.read_csv(\"tmdb_5000_movies.csv\")"
   ]
  },
  {
   "cell_type": "code",
   "execution_count": 4,
   "id": "02e4190e-ff2e-4c1d-84f3-ac6b2f1aa001",
   "metadata": {},
   "outputs": [
    {
     "data": {
      "text/html": [
       "<div>\n",
       "<style scoped>\n",
       "    .dataframe tbody tr th:only-of-type {\n",
       "        vertical-align: middle;\n",
       "    }\n",
       "\n",
       "    .dataframe tbody tr th {\n",
       "        vertical-align: top;\n",
       "    }\n",
       "\n",
       "    .dataframe thead th {\n",
       "        text-align: right;\n",
       "    }\n",
       "</style>\n",
       "<table border=\"1\" class=\"dataframe\">\n",
       "  <thead>\n",
       "    <tr style=\"text-align: right;\">\n",
       "      <th></th>\n",
       "      <th>budget</th>\n",
       "      <th>genres</th>\n",
       "      <th>homepage</th>\n",
       "      <th>id</th>\n",
       "      <th>keywords</th>\n",
       "      <th>original_language</th>\n",
       "      <th>original_title</th>\n",
       "      <th>overview</th>\n",
       "      <th>popularity</th>\n",
       "      <th>production_companies</th>\n",
       "      <th>production_countries</th>\n",
       "      <th>release_date</th>\n",
       "      <th>revenue</th>\n",
       "      <th>runtime</th>\n",
       "      <th>spoken_languages</th>\n",
       "      <th>status</th>\n",
       "      <th>tagline</th>\n",
       "      <th>title</th>\n",
       "      <th>vote_average</th>\n",
       "      <th>vote_count</th>\n",
       "    </tr>\n",
       "  </thead>\n",
       "  <tbody>\n",
       "    <tr>\n",
       "      <th>0</th>\n",
       "      <td>237000000</td>\n",
       "      <td>[{\"id\": 28, \"name\": \"Action\"}, {\"id\": 12, \"nam...</td>\n",
       "      <td>http://www.avatarmovie.com/</td>\n",
       "      <td>19995</td>\n",
       "      <td>[{\"id\": 1463, \"name\": \"culture clash\"}, {\"id\":...</td>\n",
       "      <td>en</td>\n",
       "      <td>Avatar</td>\n",
       "      <td>In the 22nd century, a paraplegic Marine is di...</td>\n",
       "      <td>150.437577</td>\n",
       "      <td>[{\"name\": \"Ingenious Film Partners\", \"id\": 289...</td>\n",
       "      <td>[{\"iso_3166_1\": \"US\", \"name\": \"United States o...</td>\n",
       "      <td>2009-12-10</td>\n",
       "      <td>2787965087</td>\n",
       "      <td>162.0</td>\n",
       "      <td>[{\"iso_639_1\": \"en\", \"name\": \"English\"}, {\"iso...</td>\n",
       "      <td>Released</td>\n",
       "      <td>Enter the World of Pandora.</td>\n",
       "      <td>Avatar</td>\n",
       "      <td>7.2</td>\n",
       "      <td>11800</td>\n",
       "    </tr>\n",
       "    <tr>\n",
       "      <th>1</th>\n",
       "      <td>300000000</td>\n",
       "      <td>[{\"id\": 12, \"name\": \"Adventure\"}, {\"id\": 14, \"...</td>\n",
       "      <td>http://disney.go.com/disneypictures/pirates/</td>\n",
       "      <td>285</td>\n",
       "      <td>[{\"id\": 270, \"name\": \"ocean\"}, {\"id\": 726, \"na...</td>\n",
       "      <td>en</td>\n",
       "      <td>Pirates of the Caribbean: At World's End</td>\n",
       "      <td>Captain Barbossa, long believed to be dead, ha...</td>\n",
       "      <td>139.082615</td>\n",
       "      <td>[{\"name\": \"Walt Disney Pictures\", \"id\": 2}, {\"...</td>\n",
       "      <td>[{\"iso_3166_1\": \"US\", \"name\": \"United States o...</td>\n",
       "      <td>2007-05-19</td>\n",
       "      <td>961000000</td>\n",
       "      <td>169.0</td>\n",
       "      <td>[{\"iso_639_1\": \"en\", \"name\": \"English\"}]</td>\n",
       "      <td>Released</td>\n",
       "      <td>At the end of the world, the adventure begins.</td>\n",
       "      <td>Pirates of the Caribbean: At World's End</td>\n",
       "      <td>6.9</td>\n",
       "      <td>4500</td>\n",
       "    </tr>\n",
       "    <tr>\n",
       "      <th>2</th>\n",
       "      <td>245000000</td>\n",
       "      <td>[{\"id\": 28, \"name\": \"Action\"}, {\"id\": 12, \"nam...</td>\n",
       "      <td>http://www.sonypictures.com/movies/spectre/</td>\n",
       "      <td>206647</td>\n",
       "      <td>[{\"id\": 470, \"name\": \"spy\"}, {\"id\": 818, \"name...</td>\n",
       "      <td>en</td>\n",
       "      <td>Spectre</td>\n",
       "      <td>A cryptic message from Bond’s past sends him o...</td>\n",
       "      <td>107.376788</td>\n",
       "      <td>[{\"name\": \"Columbia Pictures\", \"id\": 5}, {\"nam...</td>\n",
       "      <td>[{\"iso_3166_1\": \"GB\", \"name\": \"United Kingdom\"...</td>\n",
       "      <td>2015-10-26</td>\n",
       "      <td>880674609</td>\n",
       "      <td>148.0</td>\n",
       "      <td>[{\"iso_639_1\": \"fr\", \"name\": \"Fran\\u00e7ais\"},...</td>\n",
       "      <td>Released</td>\n",
       "      <td>A Plan No One Escapes</td>\n",
       "      <td>Spectre</td>\n",
       "      <td>6.3</td>\n",
       "      <td>4466</td>\n",
       "    </tr>\n",
       "    <tr>\n",
       "      <th>3</th>\n",
       "      <td>250000000</td>\n",
       "      <td>[{\"id\": 28, \"name\": \"Action\"}, {\"id\": 80, \"nam...</td>\n",
       "      <td>http://www.thedarkknightrises.com/</td>\n",
       "      <td>49026</td>\n",
       "      <td>[{\"id\": 849, \"name\": \"dc comics\"}, {\"id\": 853,...</td>\n",
       "      <td>en</td>\n",
       "      <td>The Dark Knight Rises</td>\n",
       "      <td>Following the death of District Attorney Harve...</td>\n",
       "      <td>112.312950</td>\n",
       "      <td>[{\"name\": \"Legendary Pictures\", \"id\": 923}, {\"...</td>\n",
       "      <td>[{\"iso_3166_1\": \"US\", \"name\": \"United States o...</td>\n",
       "      <td>2012-07-16</td>\n",
       "      <td>1084939099</td>\n",
       "      <td>165.0</td>\n",
       "      <td>[{\"iso_639_1\": \"en\", \"name\": \"English\"}]</td>\n",
       "      <td>Released</td>\n",
       "      <td>The Legend Ends</td>\n",
       "      <td>The Dark Knight Rises</td>\n",
       "      <td>7.6</td>\n",
       "      <td>9106</td>\n",
       "    </tr>\n",
       "    <tr>\n",
       "      <th>4</th>\n",
       "      <td>260000000</td>\n",
       "      <td>[{\"id\": 28, \"name\": \"Action\"}, {\"id\": 12, \"nam...</td>\n",
       "      <td>http://movies.disney.com/john-carter</td>\n",
       "      <td>49529</td>\n",
       "      <td>[{\"id\": 818, \"name\": \"based on novel\"}, {\"id\":...</td>\n",
       "      <td>en</td>\n",
       "      <td>John Carter</td>\n",
       "      <td>John Carter is a war-weary, former military ca...</td>\n",
       "      <td>43.926995</td>\n",
       "      <td>[{\"name\": \"Walt Disney Pictures\", \"id\": 2}]</td>\n",
       "      <td>[{\"iso_3166_1\": \"US\", \"name\": \"United States o...</td>\n",
       "      <td>2012-03-07</td>\n",
       "      <td>284139100</td>\n",
       "      <td>132.0</td>\n",
       "      <td>[{\"iso_639_1\": \"en\", \"name\": \"English\"}]</td>\n",
       "      <td>Released</td>\n",
       "      <td>Lost in our world, found in another.</td>\n",
       "      <td>John Carter</td>\n",
       "      <td>6.1</td>\n",
       "      <td>2124</td>\n",
       "    </tr>\n",
       "  </tbody>\n",
       "</table>\n",
       "</div>"
      ],
      "text/plain": [
       "      budget                                             genres  \\\n",
       "0  237000000  [{\"id\": 28, \"name\": \"Action\"}, {\"id\": 12, \"nam...   \n",
       "1  300000000  [{\"id\": 12, \"name\": \"Adventure\"}, {\"id\": 14, \"...   \n",
       "2  245000000  [{\"id\": 28, \"name\": \"Action\"}, {\"id\": 12, \"nam...   \n",
       "3  250000000  [{\"id\": 28, \"name\": \"Action\"}, {\"id\": 80, \"nam...   \n",
       "4  260000000  [{\"id\": 28, \"name\": \"Action\"}, {\"id\": 12, \"nam...   \n",
       "\n",
       "                                       homepage      id  \\\n",
       "0                   http://www.avatarmovie.com/   19995   \n",
       "1  http://disney.go.com/disneypictures/pirates/     285   \n",
       "2   http://www.sonypictures.com/movies/spectre/  206647   \n",
       "3            http://www.thedarkknightrises.com/   49026   \n",
       "4          http://movies.disney.com/john-carter   49529   \n",
       "\n",
       "                                            keywords original_language  \\\n",
       "0  [{\"id\": 1463, \"name\": \"culture clash\"}, {\"id\":...                en   \n",
       "1  [{\"id\": 270, \"name\": \"ocean\"}, {\"id\": 726, \"na...                en   \n",
       "2  [{\"id\": 470, \"name\": \"spy\"}, {\"id\": 818, \"name...                en   \n",
       "3  [{\"id\": 849, \"name\": \"dc comics\"}, {\"id\": 853,...                en   \n",
       "4  [{\"id\": 818, \"name\": \"based on novel\"}, {\"id\":...                en   \n",
       "\n",
       "                             original_title  \\\n",
       "0                                    Avatar   \n",
       "1  Pirates of the Caribbean: At World's End   \n",
       "2                                   Spectre   \n",
       "3                     The Dark Knight Rises   \n",
       "4                               John Carter   \n",
       "\n",
       "                                            overview  popularity  \\\n",
       "0  In the 22nd century, a paraplegic Marine is di...  150.437577   \n",
       "1  Captain Barbossa, long believed to be dead, ha...  139.082615   \n",
       "2  A cryptic message from Bond’s past sends him o...  107.376788   \n",
       "3  Following the death of District Attorney Harve...  112.312950   \n",
       "4  John Carter is a war-weary, former military ca...   43.926995   \n",
       "\n",
       "                                production_companies  \\\n",
       "0  [{\"name\": \"Ingenious Film Partners\", \"id\": 289...   \n",
       "1  [{\"name\": \"Walt Disney Pictures\", \"id\": 2}, {\"...   \n",
       "2  [{\"name\": \"Columbia Pictures\", \"id\": 5}, {\"nam...   \n",
       "3  [{\"name\": \"Legendary Pictures\", \"id\": 923}, {\"...   \n",
       "4        [{\"name\": \"Walt Disney Pictures\", \"id\": 2}]   \n",
       "\n",
       "                                production_countries release_date     revenue  \\\n",
       "0  [{\"iso_3166_1\": \"US\", \"name\": \"United States o...   2009-12-10  2787965087   \n",
       "1  [{\"iso_3166_1\": \"US\", \"name\": \"United States o...   2007-05-19   961000000   \n",
       "2  [{\"iso_3166_1\": \"GB\", \"name\": \"United Kingdom\"...   2015-10-26   880674609   \n",
       "3  [{\"iso_3166_1\": \"US\", \"name\": \"United States o...   2012-07-16  1084939099   \n",
       "4  [{\"iso_3166_1\": \"US\", \"name\": \"United States o...   2012-03-07   284139100   \n",
       "\n",
       "   runtime                                   spoken_languages    status  \\\n",
       "0    162.0  [{\"iso_639_1\": \"en\", \"name\": \"English\"}, {\"iso...  Released   \n",
       "1    169.0           [{\"iso_639_1\": \"en\", \"name\": \"English\"}]  Released   \n",
       "2    148.0  [{\"iso_639_1\": \"fr\", \"name\": \"Fran\\u00e7ais\"},...  Released   \n",
       "3    165.0           [{\"iso_639_1\": \"en\", \"name\": \"English\"}]  Released   \n",
       "4    132.0           [{\"iso_639_1\": \"en\", \"name\": \"English\"}]  Released   \n",
       "\n",
       "                                          tagline  \\\n",
       "0                     Enter the World of Pandora.   \n",
       "1  At the end of the world, the adventure begins.   \n",
       "2                           A Plan No One Escapes   \n",
       "3                                 The Legend Ends   \n",
       "4            Lost in our world, found in another.   \n",
       "\n",
       "                                      title  vote_average  vote_count  \n",
       "0                                    Avatar           7.2       11800  \n",
       "1  Pirates of the Caribbean: At World's End           6.9        4500  \n",
       "2                                   Spectre           6.3        4466  \n",
       "3                     The Dark Knight Rises           7.6        9106  \n",
       "4                               John Carter           6.1        2124  "
      ]
     },
     "execution_count": 4,
     "metadata": {},
     "output_type": "execute_result"
    }
   ],
   "source": [
    "tmdb.head()"
   ]
  },
  {
   "cell_type": "code",
   "execution_count": 5,
   "id": "ad5ff03f-5297-4f6f-8b74-9cd3da3f2ee8",
   "metadata": {},
   "outputs": [
    {
     "data": {
      "text/html": [
       "<div>\n",
       "<style scoped>\n",
       "    .dataframe tbody tr th:only-of-type {\n",
       "        vertical-align: middle;\n",
       "    }\n",
       "\n",
       "    .dataframe tbody tr th {\n",
       "        vertical-align: top;\n",
       "    }\n",
       "\n",
       "    .dataframe thead th {\n",
       "        text-align: right;\n",
       "    }\n",
       "</style>\n",
       "<table border=\"1\" class=\"dataframe\">\n",
       "  <thead>\n",
       "    <tr style=\"text-align: right;\">\n",
       "      <th></th>\n",
       "      <th>budget</th>\n",
       "      <th>id</th>\n",
       "      <th>popularity</th>\n",
       "      <th>revenue</th>\n",
       "      <th>runtime</th>\n",
       "      <th>vote_average</th>\n",
       "      <th>vote_count</th>\n",
       "    </tr>\n",
       "  </thead>\n",
       "  <tbody>\n",
       "    <tr>\n",
       "      <th>count</th>\n",
       "      <td>4.803000e+03</td>\n",
       "      <td>4803.000000</td>\n",
       "      <td>4803.000000</td>\n",
       "      <td>4.803000e+03</td>\n",
       "      <td>4801.000000</td>\n",
       "      <td>4803.000000</td>\n",
       "      <td>4803.000000</td>\n",
       "    </tr>\n",
       "    <tr>\n",
       "      <th>mean</th>\n",
       "      <td>2.904504e+07</td>\n",
       "      <td>57165.484281</td>\n",
       "      <td>21.492301</td>\n",
       "      <td>8.226064e+07</td>\n",
       "      <td>106.875859</td>\n",
       "      <td>6.092172</td>\n",
       "      <td>690.217989</td>\n",
       "    </tr>\n",
       "    <tr>\n",
       "      <th>std</th>\n",
       "      <td>4.072239e+07</td>\n",
       "      <td>88694.614033</td>\n",
       "      <td>31.816650</td>\n",
       "      <td>1.628571e+08</td>\n",
       "      <td>22.611935</td>\n",
       "      <td>1.194612</td>\n",
       "      <td>1234.585891</td>\n",
       "    </tr>\n",
       "    <tr>\n",
       "      <th>min</th>\n",
       "      <td>0.000000e+00</td>\n",
       "      <td>5.000000</td>\n",
       "      <td>0.000000</td>\n",
       "      <td>0.000000e+00</td>\n",
       "      <td>0.000000</td>\n",
       "      <td>0.000000</td>\n",
       "      <td>0.000000</td>\n",
       "    </tr>\n",
       "    <tr>\n",
       "      <th>25%</th>\n",
       "      <td>7.900000e+05</td>\n",
       "      <td>9014.500000</td>\n",
       "      <td>4.668070</td>\n",
       "      <td>0.000000e+00</td>\n",
       "      <td>94.000000</td>\n",
       "      <td>5.600000</td>\n",
       "      <td>54.000000</td>\n",
       "    </tr>\n",
       "    <tr>\n",
       "      <th>50%</th>\n",
       "      <td>1.500000e+07</td>\n",
       "      <td>14629.000000</td>\n",
       "      <td>12.921594</td>\n",
       "      <td>1.917000e+07</td>\n",
       "      <td>103.000000</td>\n",
       "      <td>6.200000</td>\n",
       "      <td>235.000000</td>\n",
       "    </tr>\n",
       "    <tr>\n",
       "      <th>75%</th>\n",
       "      <td>4.000000e+07</td>\n",
       "      <td>58610.500000</td>\n",
       "      <td>28.313505</td>\n",
       "      <td>9.291719e+07</td>\n",
       "      <td>118.000000</td>\n",
       "      <td>6.800000</td>\n",
       "      <td>737.000000</td>\n",
       "    </tr>\n",
       "    <tr>\n",
       "      <th>max</th>\n",
       "      <td>3.800000e+08</td>\n",
       "      <td>459488.000000</td>\n",
       "      <td>875.581305</td>\n",
       "      <td>2.787965e+09</td>\n",
       "      <td>338.000000</td>\n",
       "      <td>10.000000</td>\n",
       "      <td>13752.000000</td>\n",
       "    </tr>\n",
       "  </tbody>\n",
       "</table>\n",
       "</div>"
      ],
      "text/plain": [
       "             budget             id   popularity       revenue      runtime  \\\n",
       "count  4.803000e+03    4803.000000  4803.000000  4.803000e+03  4801.000000   \n",
       "mean   2.904504e+07   57165.484281    21.492301  8.226064e+07   106.875859   \n",
       "std    4.072239e+07   88694.614033    31.816650  1.628571e+08    22.611935   \n",
       "min    0.000000e+00       5.000000     0.000000  0.000000e+00     0.000000   \n",
       "25%    7.900000e+05    9014.500000     4.668070  0.000000e+00    94.000000   \n",
       "50%    1.500000e+07   14629.000000    12.921594  1.917000e+07   103.000000   \n",
       "75%    4.000000e+07   58610.500000    28.313505  9.291719e+07   118.000000   \n",
       "max    3.800000e+08  459488.000000   875.581305  2.787965e+09   338.000000   \n",
       "\n",
       "       vote_average    vote_count  \n",
       "count   4803.000000   4803.000000  \n",
       "mean       6.092172    690.217989  \n",
       "std        1.194612   1234.585891  \n",
       "min        0.000000      0.000000  \n",
       "25%        5.600000     54.000000  \n",
       "50%        6.200000    235.000000  \n",
       "75%        6.800000    737.000000  \n",
       "max       10.000000  13752.000000  "
      ]
     },
     "execution_count": 5,
     "metadata": {},
     "output_type": "execute_result"
    }
   ],
   "source": [
    "tmdb.describe()"
   ]
  },
  {
   "cell_type": "code",
   "execution_count": 6,
   "id": "3a9f9341-3275-4e89-b008-afe6bdc42488",
   "metadata": {},
   "outputs": [
    {
     "data": {
      "text/plain": [
       "Text(0.5, 1.0, 'Média de votos em filmes no TMBD 5000')"
      ]
     },
     "execution_count": 6,
     "metadata": {},
     "output_type": "execute_result"
    },
    {
     "data": {
      "image/png": "[encoded data removed]",
      "text/plain": [
       "<Figure size 500x500 with 1 Axes>"
      ]
     },
     "metadata": {},
     "output_type": "display_data"
    }
   ],
   "source": [
    "ax = sns.displot(tmdb.vote_average)\n",
    "ax.set(xlabel='Nota Média', ylabel='Densidade')\n",
    "plt.title('Média de votos em filmes no TMBD 5000')"
   ]
  },
  {
   "cell_type": "code",
   "execution_count": 7,
   "id": "8b56312c-c6a0-48c6-9741-ba3e6742e7b1",
   "metadata": {},
   "outputs": [
    {
     "data": {
      "text/plain": [
       "Text(0.5, 1.0, 'Média de votos em filmes no TMBD 5000')"
      ]
     },
     "execution_count": 7,
     "metadata": {},
     "output_type": "execute_result"
    },
    {
     "data": {
      "image/png": "[encoded data removed]",
      "text/plain": [
       "<Figure size 500x500 with 1 Axes>"
      ]
     },
     "metadata": {},
     "output_type": "display_data"
    }
   ],
   "source": [
    "ax = sns.displot(tmdb.vote_average)\n",
    "ax.set(xlabel='Nota Média', ylabel='Frenquência')\n",
    "plt.title('Média de votos em filmes no TMBD 5000')"
   ]
  },
  {
   "cell_type": "code",
   "execution_count": 8,
   "id": "a76cd59d-a5dd-4f76-ab8c-49f3d424728c",
   "metadata": {},
   "outputs": [
    {
     "data": {
      "text/plain": [
       "<Axes: ylabel='vote_average'>"
      ]
     },
     "execution_count": 8,
     "metadata": {},
     "output_type": "execute_result"
    },
    {
     "data": {
      "image/png": "[encoded data removed]",
      "text/plain": [
       "<Figure size 640x480 with 1 Axes>"
      ]
     },
     "metadata": {},
     "output_type": "display_data"
    }
   ],
   "source": [
    "sns.boxplot(tmdb.vote_average)"
   ]
  },
  {
   "cell_type": "code",
   "execution_count": 9,
   "id": "3758e9b3-d1d2-4b10-9dd1-9117de3f8726",
   "metadata": {},
   "outputs": [
    {
     "data": {
      "text/plain": [
       "Text(0.5, 1.0, 'Distribuição de notas média dos filmes TMDB 5000')"
      ]
     },
     "execution_count": 9,
     "metadata": {},
     "output_type": "execute_result"
    },
    {
     "data": {
      "image/png": "[encoded data removed]",
      "text/plain": [
       "<Figure size 640x480 with 1 Axes>"
      ]
     },
     "metadata": {},
     "output_type": "display_data"
    }
   ],
   "source": [
    "ax=sns.boxplot(x=tmdb.vote_average)\n",
    "ax.set(xlabel='Nota  média do filme')\n",
    "plt.title(\"Distribuição de notas média dos filmes TMDB 5000\")"
   ]
  },
  {
   "cell_type": "code",
   "execution_count": 10,
   "id": "2ceef9a1-9056-43de-86bf-2c40062dfac6",
   "metadata": {},
   "outputs": [
    {
     "name": "stdout",
     "output_type": "stream",
     "text": [
      "Object `ver` not found.\n"
     ]
    }
   ],
   "source": [
    "tem algo de estranho com os emnus dados nao faz sentidado notas  média é 0 ou 10.. vamos ver?"
   ]
  },
  {
   "cell_type": "code",
   "execution_count": 11,
   "id": "dc9277b8-a733-4481-b9cb-7b694c787d30",
   "metadata": {},
   "outputs": [
    {
     "data": {
      "text/html": [
       "<div>\n",
       "<style scoped>\n",
       "    .dataframe tbody tr th:only-of-type {\n",
       "        vertical-align: middle;\n",
       "    }\n",
       "\n",
       "    .dataframe tbody tr th {\n",
       "        vertical-align: top;\n",
       "    }\n",
       "\n",
       "    .dataframe thead th {\n",
       "        text-align: right;\n",
       "    }\n",
       "</style>\n",
       "<table border=\"1\" class=\"dataframe\">\n",
       "  <thead>\n",
       "    <tr style=\"text-align: right;\">\n",
       "      <th></th>\n",
       "      <th>budget</th>\n",
       "      <th>genres</th>\n",
       "      <th>homepage</th>\n",
       "      <th>id</th>\n",
       "      <th>keywords</th>\n",
       "      <th>original_language</th>\n",
       "      <th>original_title</th>\n",
       "      <th>overview</th>\n",
       "      <th>popularity</th>\n",
       "      <th>production_companies</th>\n",
       "      <th>production_countries</th>\n",
       "      <th>release_date</th>\n",
       "      <th>revenue</th>\n",
       "      <th>runtime</th>\n",
       "      <th>spoken_languages</th>\n",
       "      <th>status</th>\n",
       "      <th>tagline</th>\n",
       "      <th>title</th>\n",
       "      <th>vote_average</th>\n",
       "      <th>vote_count</th>\n",
       "    </tr>\n",
       "  </thead>\n",
       "  <tbody>\n",
       "    <tr>\n",
       "      <th>1464</th>\n",
       "      <td>0</td>\n",
       "      <td>[{\"id\": 18, \"name\": \"Drama\"}, {\"id\": 80, \"name...</td>\n",
       "      <td>NaN</td>\n",
       "      <td>310706</td>\n",
       "      <td>[]</td>\n",
       "      <td>en</td>\n",
       "      <td>Black Water Transit</td>\n",
       "      <td>In this action thriller set in post-Katrina Ne...</td>\n",
       "      <td>0.126738</td>\n",
       "      <td>[{\"name\": \"Capitol Films\", \"id\": 826}]</td>\n",
       "      <td>[{\"iso_3166_1\": \"US\", \"name\": \"United States o...</td>\n",
       "      <td>2009-05-13</td>\n",
       "      <td>0</td>\n",
       "      <td>100.0</td>\n",
       "      <td>[{\"iso_639_1\": \"en\", \"name\": \"English\"}]</td>\n",
       "      <td>Released</td>\n",
       "      <td>NaN</td>\n",
       "      <td>Black Water Transit</td>\n",
       "      <td>0.0</td>\n",
       "      <td>0</td>\n",
       "    </tr>\n",
       "    <tr>\n",
       "      <th>3669</th>\n",
       "      <td>0</td>\n",
       "      <td>[{\"id\": 35, \"name\": \"Comedy\"}, {\"id\": 18, \"nam...</td>\n",
       "      <td>http://www.romeothemovie.com/</td>\n",
       "      <td>113406</td>\n",
       "      <td>[]</td>\n",
       "      <td>en</td>\n",
       "      <td>Should've Been Romeo</td>\n",
       "      <td>A self-centered, middle-aged pitchman for a po...</td>\n",
       "      <td>0.407030</td>\n",
       "      <td>[{\"name\": \"Phillybrook Films\", \"id\": 65147}]</td>\n",
       "      <td>[{\"iso_3166_1\": \"US\", \"name\": \"United States o...</td>\n",
       "      <td>2012-04-28</td>\n",
       "      <td>0</td>\n",
       "      <td>0.0</td>\n",
       "      <td>[{\"iso_639_1\": \"en\", \"name\": \"English\"}]</td>\n",
       "      <td>Released</td>\n",
       "      <td>Even Shakespeare didn't see this one coming.</td>\n",
       "      <td>Should've Been Romeo</td>\n",
       "      <td>0.0</td>\n",
       "      <td>0</td>\n",
       "    </tr>\n",
       "    <tr>\n",
       "      <th>3670</th>\n",
       "      <td>0</td>\n",
       "      <td>[{\"id\": 10751, \"name\": \"Family\"}]</td>\n",
       "      <td>NaN</td>\n",
       "      <td>447027</td>\n",
       "      <td>[]</td>\n",
       "      <td>en</td>\n",
       "      <td>Running Forever</td>\n",
       "      <td>After being estranged since her mother's death...</td>\n",
       "      <td>0.028756</td>\n",
       "      <td>[{\"name\": \"New Kingdom Pictures\", \"id\": 41671}]</td>\n",
       "      <td>[{\"iso_3166_1\": \"US\", \"name\": \"United States o...</td>\n",
       "      <td>2015-10-27</td>\n",
       "      <td>0</td>\n",
       "      <td>88.0</td>\n",
       "      <td>[]</td>\n",
       "      <td>Released</td>\n",
       "      <td>NaN</td>\n",
       "      <td>Running Forever</td>\n",
       "      <td>0.0</td>\n",
       "      <td>0</td>\n",
       "    </tr>\n",
       "    <tr>\n",
       "      <th>3852</th>\n",
       "      <td>0</td>\n",
       "      <td>[{\"id\": 18, \"name\": \"Drama\"}]</td>\n",
       "      <td>NaN</td>\n",
       "      <td>395766</td>\n",
       "      <td>[{\"id\": 11162, \"name\": \"miniseries\"}]</td>\n",
       "      <td>en</td>\n",
       "      <td>The Secret</td>\n",
       "      <td>The Secret is the story of a real-life double ...</td>\n",
       "      <td>0.042346</td>\n",
       "      <td>[]</td>\n",
       "      <td>[]</td>\n",
       "      <td>2016-04-29</td>\n",
       "      <td>0</td>\n",
       "      <td>200.0</td>\n",
       "      <td>[]</td>\n",
       "      <td>Released</td>\n",
       "      <td>NaN</td>\n",
       "      <td>The Secret</td>\n",
       "      <td>0.0</td>\n",
       "      <td>0</td>\n",
       "    </tr>\n",
       "    <tr>\n",
       "      <th>3855</th>\n",
       "      <td>3500000</td>\n",
       "      <td>[{\"id\": 99, \"name\": \"Documentary\"}]</td>\n",
       "      <td>http://www.timetochoose.com</td>\n",
       "      <td>370662</td>\n",
       "      <td>[{\"id\": 2210, \"name\": \"climate change\"}, {\"id\"...</td>\n",
       "      <td>en</td>\n",
       "      <td>Time to Choose</td>\n",
       "      <td>Academy Award® winning director Charles Fergus...</td>\n",
       "      <td>1.618138</td>\n",
       "      <td>[{\"name\": \"Representational Pictures\", \"id\": 8...</td>\n",
       "      <td>[{\"iso_3166_1\": \"US\", \"name\": \"United States o...</td>\n",
       "      <td>2015-09-04</td>\n",
       "      <td>0</td>\n",
       "      <td>100.0</td>\n",
       "      <td>[{\"iso_639_1\": \"en\", \"name\": \"English\"}]</td>\n",
       "      <td>Released</td>\n",
       "      <td>Climate change for good.</td>\n",
       "      <td>Time to Choose</td>\n",
       "      <td>0.0</td>\n",
       "      <td>0</td>\n",
       "    </tr>\n",
       "  </tbody>\n",
       "</table>\n",
       "</div>"
      ],
      "text/plain": [
       "       budget                                             genres  \\\n",
       "1464        0  [{\"id\": 18, \"name\": \"Drama\"}, {\"id\": 80, \"name...   \n",
       "3669        0  [{\"id\": 35, \"name\": \"Comedy\"}, {\"id\": 18, \"nam...   \n",
       "3670        0                  [{\"id\": 10751, \"name\": \"Family\"}]   \n",
       "3852        0                      [{\"id\": 18, \"name\": \"Drama\"}]   \n",
       "3855  3500000                [{\"id\": 99, \"name\": \"Documentary\"}]   \n",
       "\n",
       "                           homepage      id  \\\n",
       "1464                            NaN  310706   \n",
       "3669  http://www.romeothemovie.com/  113406   \n",
       "3670                            NaN  447027   \n",
       "3852                            NaN  395766   \n",
       "3855    http://www.timetochoose.com  370662   \n",
       "\n",
       "                                               keywords original_language  \\\n",
       "1464                                                 []                en   \n",
       "3669                                                 []                en   \n",
       "3670                                                 []                en   \n",
       "3852              [{\"id\": 11162, \"name\": \"miniseries\"}]                en   \n",
       "3855  [{\"id\": 2210, \"name\": \"climate change\"}, {\"id\"...                en   \n",
       "\n",
       "            original_title                                           overview  \\\n",
       "1464   Black Water Transit  In this action thriller set in post-Katrina Ne...   \n",
       "3669  Should've Been Romeo  A self-centered, middle-aged pitchman for a po...   \n",
       "3670       Running Forever  After being estranged since her mother's death...   \n",
       "3852            The Secret  The Secret is the story of a real-life double ...   \n",
       "3855        Time to Choose  Academy Award® winning director Charles Fergus...   \n",
       "\n",
       "      popularity                               production_companies  \\\n",
       "1464    0.126738             [{\"name\": \"Capitol Films\", \"id\": 826}]   \n",
       "3669    0.407030       [{\"name\": \"Phillybrook Films\", \"id\": 65147}]   \n",
       "3670    0.028756    [{\"name\": \"New Kingdom Pictures\", \"id\": 41671}]   \n",
       "3852    0.042346                                                 []   \n",
       "3855    1.618138  [{\"name\": \"Representational Pictures\", \"id\": 8...   \n",
       "\n",
       "                                   production_countries release_date  revenue  \\\n",
       "1464  [{\"iso_3166_1\": \"US\", \"name\": \"United States o...   2009-05-13        0   \n",
       "3669  [{\"iso_3166_1\": \"US\", \"name\": \"United States o...   2012-04-28        0   \n",
       "3670  [{\"iso_3166_1\": \"US\", \"name\": \"United States o...   2015-10-27        0   \n",
       "3852                                                 []   2016-04-29        0   \n",
       "3855  [{\"iso_3166_1\": \"US\", \"name\": \"United States o...   2015-09-04        0   \n",
       "\n",
       "      runtime                          spoken_languages    status  \\\n",
       "1464    100.0  [{\"iso_639_1\": \"en\", \"name\": \"English\"}]  Released   \n",
       "3669      0.0  [{\"iso_639_1\": \"en\", \"name\": \"English\"}]  Released   \n",
       "3670     88.0                                        []  Released   \n",
       "3852    200.0                                        []  Released   \n",
       "3855    100.0  [{\"iso_639_1\": \"en\", \"name\": \"English\"}]  Released   \n",
       "\n",
       "                                           tagline                 title  \\\n",
       "1464                                           NaN   Black Water Transit   \n",
       "3669  Even Shakespeare didn't see this one coming.  Should've Been Romeo   \n",
       "3670                                           NaN       Running Forever   \n",
       "3852                                           NaN            The Secret   \n",
       "3855                      Climate change for good.        Time to Choose   \n",
       "\n",
       "      vote_average  vote_count  \n",
       "1464           0.0           0  \n",
       "3669           0.0           0  \n",
       "3670           0.0           0  \n",
       "3852           0.0           0  \n",
       "3855           0.0           0  "
      ]
     },
     "execution_count": 11,
     "metadata": {},
     "output_type": "execute_result"
    }
   ],
   "source": [
    "tmdb.query(\"vote_average == 0\").head()"
   ]
  },
  {
   "cell_type": "code",
   "execution_count": 12,
   "id": "afa37ec2-c649-41eb-8e94-b6563fa7f233",
   "metadata": {},
   "outputs": [
    {
     "data": {
      "text/html": [
       "<div>\n",
       "<style scoped>\n",
       "    .dataframe tbody tr th:only-of-type {\n",
       "        vertical-align: middle;\n",
       "    }\n",
       "\n",
       "    .dataframe tbody tr th {\n",
       "        vertical-align: top;\n",
       "    }\n",
       "\n",
       "    .dataframe thead th {\n",
       "        text-align: right;\n",
       "    }\n",
       "</style>\n",
       "<table border=\"1\" class=\"dataframe\">\n",
       "  <thead>\n",
       "    <tr style=\"text-align: right;\">\n",
       "      <th></th>\n",
       "      <th>budget</th>\n",
       "      <th>id</th>\n",
       "      <th>popularity</th>\n",
       "      <th>revenue</th>\n",
       "      <th>runtime</th>\n",
       "      <th>vote_average</th>\n",
       "      <th>vote_count</th>\n",
       "    </tr>\n",
       "  </thead>\n",
       "  <tbody>\n",
       "    <tr>\n",
       "      <th>count</th>\n",
       "      <td>4.392000e+03</td>\n",
       "      <td>4392.000000</td>\n",
       "      <td>4392.000000</td>\n",
       "      <td>4.392000e+03</td>\n",
       "      <td>4391.000000</td>\n",
       "      <td>4392.000000</td>\n",
       "      <td>4392.000000</td>\n",
       "    </tr>\n",
       "    <tr>\n",
       "      <th>mean</th>\n",
       "      <td>3.164545e+07</td>\n",
       "      <td>49204.119991</td>\n",
       "      <td>23.448815</td>\n",
       "      <td>8.990969e+07</td>\n",
       "      <td>108.430881</td>\n",
       "      <td>6.226935</td>\n",
       "      <td>754.441712</td>\n",
       "    </tr>\n",
       "    <tr>\n",
       "      <th>std</th>\n",
       "      <td>4.162736e+07</td>\n",
       "      <td>80136.249777</td>\n",
       "      <td>32.592158</td>\n",
       "      <td>1.682870e+08</td>\n",
       "      <td>21.014719</td>\n",
       "      <td>0.893215</td>\n",
       "      <td>1272.263761</td>\n",
       "    </tr>\n",
       "    <tr>\n",
       "      <th>min</th>\n",
       "      <td>0.000000e+00</td>\n",
       "      <td>5.000000</td>\n",
       "      <td>0.011697</td>\n",
       "      <td>0.000000e+00</td>\n",
       "      <td>0.000000</td>\n",
       "      <td>1.900000</td>\n",
       "      <td>10.000000</td>\n",
       "    </tr>\n",
       "    <tr>\n",
       "      <th>25%</th>\n",
       "      <td>2.895962e+06</td>\n",
       "      <td>8403.500000</td>\n",
       "      <td>6.512166</td>\n",
       "      <td>1.365700e+04</td>\n",
       "      <td>95.000000</td>\n",
       "      <td>5.700000</td>\n",
       "      <td>83.750000</td>\n",
       "    </tr>\n",
       "    <tr>\n",
       "      <th>50%</th>\n",
       "      <td>1.700000e+07</td>\n",
       "      <td>13084.500000</td>\n",
       "      <td>14.827784</td>\n",
       "      <td>2.685837e+07</td>\n",
       "      <td>105.000000</td>\n",
       "      <td>6.300000</td>\n",
       "      <td>288.500000</td>\n",
       "    </tr>\n",
       "    <tr>\n",
       "      <th>75%</th>\n",
       "      <td>4.200000e+07</td>\n",
       "      <td>46831.250000</td>\n",
       "      <td>30.258282</td>\n",
       "      <td>1.022818e+08</td>\n",
       "      <td>118.500000</td>\n",
       "      <td>6.800000</td>\n",
       "      <td>831.000000</td>\n",
       "    </tr>\n",
       "    <tr>\n",
       "      <th>max</th>\n",
       "      <td>3.800000e+08</td>\n",
       "      <td>417859.000000</td>\n",
       "      <td>875.581305</td>\n",
       "      <td>2.787965e+09</td>\n",
       "      <td>338.000000</td>\n",
       "      <td>8.500000</td>\n",
       "      <td>13752.000000</td>\n",
       "    </tr>\n",
       "  </tbody>\n",
       "</table>\n",
       "</div>"
      ],
      "text/plain": [
       "             budget             id   popularity       revenue      runtime  \\\n",
       "count  4.392000e+03    4392.000000  4392.000000  4.392000e+03  4391.000000   \n",
       "mean   3.164545e+07   49204.119991    23.448815  8.990969e+07   108.430881   \n",
       "std    4.162736e+07   80136.249777    32.592158  1.682870e+08    21.014719   \n",
       "min    0.000000e+00       5.000000     0.011697  0.000000e+00     0.000000   \n",
       "25%    2.895962e+06    8403.500000     6.512166  1.365700e+04    95.000000   \n",
       "50%    1.700000e+07   13084.500000    14.827784  2.685837e+07   105.000000   \n",
       "75%    4.200000e+07   46831.250000    30.258282  1.022818e+08   118.500000   \n",
       "max    3.800000e+08  417859.000000   875.581305  2.787965e+09   338.000000   \n",
       "\n",
       "       vote_average    vote_count  \n",
       "count   4392.000000   4392.000000  \n",
       "mean       6.226935    754.441712  \n",
       "std        0.893215   1272.263761  \n",
       "min        1.900000     10.000000  \n",
       "25%        5.700000     83.750000  \n",
       "50%        6.300000    288.500000  \n",
       "75%        6.800000    831.000000  \n",
       "max        8.500000  13752.000000  "
      ]
     },
     "execution_count": 12,
     "metadata": {},
     "output_type": "execute_result"
    }
   ],
   "source": [
    "tmdb_com_mais_de_10_votos= tmdb.query(\"vote_count >= 10\")\n",
    "tmdb_com_mais_de_10_votos.describe()"
   ]
  },
  {
   "cell_type": "code",
   "execution_count": 13,
   "id": "06c03d30-c4d3-489f-93bf-5ab41ea732da",
   "metadata": {},
   "outputs": [],
   "source": [
    "#detectamos que alguns fimles tiveram poycos votos ( ou at mesmo nenhum voto). Decedimos que esse filme nao façam parte da nossa análise"
   ]
  },
  {
   "cell_type": "code",
   "execution_count": 14,
   "id": "008b6c82-0374-4e95-8476-2dd0cd13a299",
   "metadata": {
    "scrolled": true
   },
   "outputs": [
    {
     "data": {
      "text/html": [
       "<div>\n",
       "<style scoped>\n",
       "    .dataframe tbody tr th:only-of-type {\n",
       "        vertical-align: middle;\n",
       "    }\n",
       "\n",
       "    .dataframe tbody tr th {\n",
       "        vertical-align: top;\n",
       "    }\n",
       "\n",
       "    .dataframe thead th {\n",
       "        text-align: right;\n",
       "    }\n",
       "</style>\n",
       "<table border=\"1\" class=\"dataframe\">\n",
       "  <thead>\n",
       "    <tr style=\"text-align: right;\">\n",
       "      <th></th>\n",
       "      <th>budget</th>\n",
       "      <th>genres</th>\n",
       "      <th>homepage</th>\n",
       "      <th>id</th>\n",
       "      <th>keywords</th>\n",
       "      <th>original_language</th>\n",
       "      <th>original_title</th>\n",
       "      <th>overview</th>\n",
       "      <th>popularity</th>\n",
       "      <th>production_companies</th>\n",
       "      <th>production_countries</th>\n",
       "      <th>release_date</th>\n",
       "      <th>revenue</th>\n",
       "      <th>runtime</th>\n",
       "      <th>spoken_languages</th>\n",
       "      <th>status</th>\n",
       "      <th>tagline</th>\n",
       "      <th>title</th>\n",
       "      <th>vote_average</th>\n",
       "      <th>vote_count</th>\n",
       "    </tr>\n",
       "  </thead>\n",
       "  <tbody>\n",
       "    <tr>\n",
       "      <th>3519</th>\n",
       "      <td>0</td>\n",
       "      <td>[{\"id\": 35, \"name\": \"Comedy\"}]</td>\n",
       "      <td>NaN</td>\n",
       "      <td>89861</td>\n",
       "      <td>[{\"id\": 131, \"name\": \"italy\"}, {\"id\": 8250, \"n...</td>\n",
       "      <td>en</td>\n",
       "      <td>Stiff Upper Lips</td>\n",
       "      <td>Stiff Upper Lips is a broad parody of British ...</td>\n",
       "      <td>0.356495</td>\n",
       "      <td>[]</td>\n",
       "      <td>[{\"iso_3166_1\": \"GB\", \"name\": \"United Kingdom\"...</td>\n",
       "      <td>1998-06-12</td>\n",
       "      <td>0</td>\n",
       "      <td>99.0</td>\n",
       "      <td>[{\"iso_639_1\": \"en\", \"name\": \"English\"}]</td>\n",
       "      <td>Released</td>\n",
       "      <td>NaN</td>\n",
       "      <td>Stiff Upper Lips</td>\n",
       "      <td>10.0</td>\n",
       "      <td>1</td>\n",
       "    </tr>\n",
       "    <tr>\n",
       "      <th>4045</th>\n",
       "      <td>0</td>\n",
       "      <td>[{\"id\": 35, \"name\": \"Comedy\"}, {\"id\": 18, \"nam...</td>\n",
       "      <td>NaN</td>\n",
       "      <td>78373</td>\n",
       "      <td>[{\"id\": 1415, \"name\": \"small town\"}, {\"id\": 15...</td>\n",
       "      <td>en</td>\n",
       "      <td>Dancer, Texas Pop. 81</td>\n",
       "      <td>Four guys, best friends, have grown up togethe...</td>\n",
       "      <td>0.376662</td>\n",
       "      <td>[{\"name\": \"HSX Films\", \"id\": 4714}, {\"name\": \"...</td>\n",
       "      <td>[{\"iso_3166_1\": \"US\", \"name\": \"United States o...</td>\n",
       "      <td>1998-05-01</td>\n",
       "      <td>565592</td>\n",
       "      <td>97.0</td>\n",
       "      <td>[{\"iso_639_1\": \"en\", \"name\": \"English\"}]</td>\n",
       "      <td>Released</td>\n",
       "      <td>in the middle of nowhere they had everything</td>\n",
       "      <td>Dancer, Texas Pop. 81</td>\n",
       "      <td>10.0</td>\n",
       "      <td>1</td>\n",
       "    </tr>\n",
       "    <tr>\n",
       "      <th>4247</th>\n",
       "      <td>1</td>\n",
       "      <td>[{\"id\": 10749, \"name\": \"Romance\"}, {\"id\": 35, ...</td>\n",
       "      <td>NaN</td>\n",
       "      <td>361505</td>\n",
       "      <td>[]</td>\n",
       "      <td>en</td>\n",
       "      <td>Me You and Five Bucks</td>\n",
       "      <td>A womanizing yet lovable loser, Charlie, a wai...</td>\n",
       "      <td>0.094105</td>\n",
       "      <td>[]</td>\n",
       "      <td>[]</td>\n",
       "      <td>2015-07-07</td>\n",
       "      <td>0</td>\n",
       "      <td>90.0</td>\n",
       "      <td>[]</td>\n",
       "      <td>Released</td>\n",
       "      <td>A story about second, second chances</td>\n",
       "      <td>Me You and Five Bucks</td>\n",
       "      <td>10.0</td>\n",
       "      <td>2</td>\n",
       "    </tr>\n",
       "    <tr>\n",
       "      <th>4662</th>\n",
       "      <td>0</td>\n",
       "      <td>[{\"id\": 35, \"name\": \"Comedy\"}]</td>\n",
       "      <td>NaN</td>\n",
       "      <td>40963</td>\n",
       "      <td>[{\"id\": 10183, \"name\": \"independent film\"}]</td>\n",
       "      <td>en</td>\n",
       "      <td>Little Big Top</td>\n",
       "      <td>An aging out of work clown returns to his smal...</td>\n",
       "      <td>0.092100</td>\n",
       "      <td>[{\"name\": \"Fly High Films\", \"id\": 24248}]</td>\n",
       "      <td>[{\"iso_3166_1\": \"US\", \"name\": \"United States o...</td>\n",
       "      <td>2006-01-01</td>\n",
       "      <td>0</td>\n",
       "      <td>0.0</td>\n",
       "      <td>[{\"iso_639_1\": \"en\", \"name\": \"English\"}]</td>\n",
       "      <td>Rumored</td>\n",
       "      <td>NaN</td>\n",
       "      <td>Little Big Top</td>\n",
       "      <td>10.0</td>\n",
       "      <td>1</td>\n",
       "    </tr>\n",
       "  </tbody>\n",
       "</table>\n",
       "</div>"
      ],
      "text/plain": [
       "      budget                                             genres homepage  \\\n",
       "3519       0                     [{\"id\": 35, \"name\": \"Comedy\"}]      NaN   \n",
       "4045       0  [{\"id\": 35, \"name\": \"Comedy\"}, {\"id\": 18, \"nam...      NaN   \n",
       "4247       1  [{\"id\": 10749, \"name\": \"Romance\"}, {\"id\": 35, ...      NaN   \n",
       "4662       0                     [{\"id\": 35, \"name\": \"Comedy\"}]      NaN   \n",
       "\n",
       "          id                                           keywords  \\\n",
       "3519   89861  [{\"id\": 131, \"name\": \"italy\"}, {\"id\": 8250, \"n...   \n",
       "4045   78373  [{\"id\": 1415, \"name\": \"small town\"}, {\"id\": 15...   \n",
       "4247  361505                                                 []   \n",
       "4662   40963        [{\"id\": 10183, \"name\": \"independent film\"}]   \n",
       "\n",
       "     original_language         original_title  \\\n",
       "3519                en       Stiff Upper Lips   \n",
       "4045                en  Dancer, Texas Pop. 81   \n",
       "4247                en  Me You and Five Bucks   \n",
       "4662                en         Little Big Top   \n",
       "\n",
       "                                               overview  popularity  \\\n",
       "3519  Stiff Upper Lips is a broad parody of British ...    0.356495   \n",
       "4045  Four guys, best friends, have grown up togethe...    0.376662   \n",
       "4247  A womanizing yet lovable loser, Charlie, a wai...    0.094105   \n",
       "4662  An aging out of work clown returns to his smal...    0.092100   \n",
       "\n",
       "                                   production_companies  \\\n",
       "3519                                                 []   \n",
       "4045  [{\"name\": \"HSX Films\", \"id\": 4714}, {\"name\": \"...   \n",
       "4247                                                 []   \n",
       "4662          [{\"name\": \"Fly High Films\", \"id\": 24248}]   \n",
       "\n",
       "                                   production_countries release_date  revenue  \\\n",
       "3519  [{\"iso_3166_1\": \"GB\", \"name\": \"United Kingdom\"...   1998-06-12        0   \n",
       "4045  [{\"iso_3166_1\": \"US\", \"name\": \"United States o...   1998-05-01   565592   \n",
       "4247                                                 []   2015-07-07        0   \n",
       "4662  [{\"iso_3166_1\": \"US\", \"name\": \"United States o...   2006-01-01        0   \n",
       "\n",
       "      runtime                          spoken_languages    status  \\\n",
       "3519     99.0  [{\"iso_639_1\": \"en\", \"name\": \"English\"}]  Released   \n",
       "4045     97.0  [{\"iso_639_1\": \"en\", \"name\": \"English\"}]  Released   \n",
       "4247     90.0                                        []  Released   \n",
       "4662      0.0  [{\"iso_639_1\": \"en\", \"name\": \"English\"}]   Rumored   \n",
       "\n",
       "                                           tagline                  title  \\\n",
       "3519                                           NaN       Stiff Upper Lips   \n",
       "4045  in the middle of nowhere they had everything  Dancer, Texas Pop. 81   \n",
       "4247          A story about second, second chances  Me You and Five Bucks   \n",
       "4662                                           NaN         Little Big Top   \n",
       "\n",
       "      vote_average  vote_count  \n",
       "3519          10.0           1  \n",
       "4045          10.0           1  \n",
       "4247          10.0           2  \n",
       "4662          10.0           1  "
      ]
     },
     "execution_count": 14,
     "metadata": {},
     "output_type": "execute_result"
    }
   ],
   "source": [
    "tmdb.query(\"vote_average == 10\").head()"
   ]
  },
  {
   "cell_type": "code",
   "execution_count": 15,
   "id": "ffc6efdd-808f-47cd-8e72-8a375247ed06",
   "metadata": {},
   "outputs": [
    {
     "data": {
      "text/plain": [
       "Text(0.5, 1.0, 'Média de votos em filmes no TMBD 5000')"
      ]
     },
     "execution_count": 15,
     "metadata": {},
     "output_type": "execute_result"
    },
    {
     "data": {
      "image/png": "[encoded data removed]",
      "text/plain": [
       "<Figure size 640x480 with 1 Axes>"
      ]
     },
     "metadata": {},
     "output_type": "display_data"
    }
   ],
   "source": [
    "ax = sns.histplot(tmdb.vote_average)\n",
    "ax.set(xlabel='Nota média', ylabel='Densidade')\n",
    "ax.set_title('Média de votos em filmes no TMBD 5000')"
   ]
  },
  {
   "cell_type": "code",
   "execution_count": 16,
   "id": "26359be9-f5ca-4e88-a363-c18dde3ff545",
   "metadata": {},
   "outputs": [
    {
     "data": {
      "text/plain": [
       "Text(0.5, 1.0, 'Número de votos em filmes no TMDB 5000 com 10 ou mais votos')"
      ]
     },
     "execution_count": 16,
     "metadata": {},
     "output_type": "execute_result"
    },
    {
     "data": {
      "image/png": "[encoded data removed]",
      "text/plain": [
       "<Figure size 640x480 with 1 Axes>"
      ]
     },
     "metadata": {},
     "output_type": "display_data"
    }
   ],
   "source": [
    "ax = sns.histplot(tmdb_com_mais_de_10_votos.vote_count)\n",
    "ax.set(xlabel='Número de votos', ylabel='Densidade')\n",
    "ax.set_title('Número de votos em filmes no TMDB 5000 com 10 ou mais votos')"
   ]
  },
  {
   "cell_type": "code",
   "execution_count": 17,
   "id": "ffceffc4-d1c7-471a-b4af-425e25d0cc9c",
   "metadata": {},
   "outputs": [
    {
     "data": {
      "text/plain": [
       "Text(0.5, 1.0, 'Média de votos em filmes no TMBD 5000 dentre os filmes com mais de 10 votos')"
      ]
     },
     "execution_count": 17,
     "metadata": {},
     "output_type": "execute_result"
    },
    {
     "data": {
      "image/png": "[encoded data removed]",
      "text/plain": [
       "<Figure size 640x480 with 1 Axes>"
      ]
     },
     "metadata": {},
     "output_type": "display_data"
    }
   ],
   "source": [
    "ax=sns.boxplot(x=tmdb_com_mais_de_10_votos.vote_average)\n",
    "ax.set(xlabel='Nota  média do filme')\n",
    "plt.title(\"Média de votos em filmes no TMBD 5000 dentre os filmes com mais de 10 votos\")"
   ]
  },
  {
   "cell_type": "code",
   "execution_count": 18,
   "id": "40e9dcef-5cf5-4982-af2f-f31bbb140ba4",
   "metadata": {},
   "outputs": [],
   "source": [
    "# Analisaremos também o move lens"
   ]
  },
  {
   "cell_type": "code",
   "execution_count": 19,
   "id": "ef2dfcbf-abfd-4f4c-bf6e-db9c4138f2f5",
   "metadata": {},
   "outputs": [
    {
     "data": {
      "text/html": [
       "<div>\n",
       "<style scoped>\n",
       "    .dataframe tbody tr th:only-of-type {\n",
       "        vertical-align: middle;\n",
       "    }\n",
       "\n",
       "    .dataframe tbody tr th {\n",
       "        vertical-align: top;\n",
       "    }\n",
       "\n",
       "    .dataframe thead th {\n",
       "        text-align: right;\n",
       "    }\n",
       "</style>\n",
       "<table border=\"1\" class=\"dataframe\">\n",
       "  <thead>\n",
       "    <tr style=\"text-align: right;\">\n",
       "      <th></th>\n",
       "      <th>userId</th>\n",
       "      <th>movieId</th>\n",
       "      <th>rating</th>\n",
       "      <th>timestamp</th>\n",
       "    </tr>\n",
       "  </thead>\n",
       "  <tbody>\n",
       "    <tr>\n",
       "      <th>0</th>\n",
       "      <td>1</td>\n",
       "      <td>1</td>\n",
       "      <td>4.0</td>\n",
       "      <td>964982703</td>\n",
       "    </tr>\n",
       "    <tr>\n",
       "      <th>1</th>\n",
       "      <td>1</td>\n",
       "      <td>3</td>\n",
       "      <td>4.0</td>\n",
       "      <td>964981247</td>\n",
       "    </tr>\n",
       "    <tr>\n",
       "      <th>2</th>\n",
       "      <td>1</td>\n",
       "      <td>6</td>\n",
       "      <td>4.0</td>\n",
       "      <td>964982224</td>\n",
       "    </tr>\n",
       "    <tr>\n",
       "      <th>3</th>\n",
       "      <td>1</td>\n",
       "      <td>47</td>\n",
       "      <td>5.0</td>\n",
       "      <td>964983815</td>\n",
       "    </tr>\n",
       "    <tr>\n",
       "      <th>4</th>\n",
       "      <td>1</td>\n",
       "      <td>50</td>\n",
       "      <td>5.0</td>\n",
       "      <td>964982931</td>\n",
       "    </tr>\n",
       "  </tbody>\n",
       "</table>\n",
       "</div>"
      ],
      "text/plain": [
       "   userId  movieId  rating  timestamp\n",
       "0       1        1     4.0  964982703\n",
       "1       1        3     4.0  964981247\n",
       "2       1        6     4.0  964982224\n",
       "3       1       47     5.0  964983815\n",
       "4       1       50     5.0  964982931"
      ]
     },
     "execution_count": 19,
     "metadata": {},
     "output_type": "execute_result"
    }
   ],
   "source": [
    "notas = pd.read_csv(\"ratings.csv\")\n",
    "notas.head()"
   ]
  },
  {
   "cell_type": "code",
   "execution_count": 20,
   "id": "5181e88b-93b2-4345-a7b9-d52866c3538d",
   "metadata": {},
   "outputs": [
    {
     "data": {
      "text/plain": [
       "movieId\n",
       "1    3.920930\n",
       "2    3.431818\n",
       "3    3.259615\n",
       "4    2.357143\n",
       "5    3.071429\n",
       "Name: rating, dtype: float64"
      ]
     },
     "execution_count": 20,
     "metadata": {},
     "output_type": "execute_result"
    }
   ],
   "source": [
    "notas_media_por_filme= notas.groupby(\"movieId\").mean()[\"rating\"]\n",
    "notas_media_por_filme.head()"
   ]
  },
  {
   "cell_type": "code",
   "execution_count": 21,
   "id": "70782978-9d6b-4268-ab27-29a30c1c5873",
   "metadata": {},
   "outputs": [
    {
     "data": {
      "text/plain": [
       "Text(0.5, 1.0, 'Média de votos em filmes no Movelns 100k ')"
      ]
     },
     "execution_count": 21,
     "metadata": {},
     "output_type": "execute_result"
    },
    {
     "data": {
      "image/png": "[encoded data removed]",
      "text/plain": [
       "<Figure size 500x500 with 1 Axes>"
      ]
     },
     "metadata": {},
     "output_type": "display_data"
    }
   ],
   "source": [
    "ax = sns.displot(notas_media_por_filme.values)\n",
    "ax.set(xlabel='Nota  média do filme', ylabel='Densidade')\n",
    "plt.title(\"Média de votos em filmes no Movelns 100k \")"
   ]
  },
  {
   "cell_type": "code",
   "execution_count": 22,
   "id": "902688c1-c00d-4005-941b-b472e07a1fc3",
   "metadata": {},
   "outputs": [
    {
     "data": {
      "text/plain": [
       "array([     1,      2,      3, ..., 177765, 179819, 187593], shape=(2269,))"
      ]
     },
     "execution_count": 22,
     "metadata": {},
     "output_type": "execute_result"
    }
   ],
   "source": [
    "quantidades_de_votos_por_filme = notas.groupby(\"movieId\").count()\n",
    "filmes_com_pelo_menos_10_votos = quantidades_de_votos_por_filme.query(\"rating >= 10\").index\n",
    "filmes_com_pelo_menos_10_votos.values"
   ]
  },
  {
   "cell_type": "code",
   "execution_count": 23,
   "id": "05471c05-10d5-43df-9ae7-c6cef29badf2",
   "metadata": {},
   "outputs": [
    {
     "data": {
      "text/plain": [
       "movieId\n",
       "1    3.920930\n",
       "2    3.431818\n",
       "3    3.259615\n",
       "5    3.071429\n",
       "6    3.946078\n",
       "Name: rating, dtype: float64"
      ]
     },
     "execution_count": 23,
     "metadata": {},
     "output_type": "execute_result"
    }
   ],
   "source": [
    "nota_média_dos_filmes_com_pelo_menos_10_votos= notas_media_por_filme.loc[filmes_com_pelo_menos_10_votos.values]\n",
    "nota_média_dos_filmes_com_pelo_menos_10_votos.head()"
   ]
  },
  {
   "cell_type": "code",
   "execution_count": 24,
   "id": "b1768a57-da70-48dd-b46c-6051538e72a8",
   "metadata": {
    "scrolled": true
   },
   "outputs": [
    {
     "data": {
      "text/plain": [
       "Text(0.5, 1.0, 'Média de votos em filmes no MOvelns 100k com pelmo menos 10 ou mais votos ')"
      ]
     },
     "execution_count": 24,
     "metadata": {},
     "output_type": "execute_result"
    },
    {
     "data": {
      "image/png": "[encoded data removed]",
      "text/plain": [
       "<Figure size 500x500 with 1 Axes>"
      ]
     },
     "metadata": {},
     "output_type": "display_data"
    }
   ],
   "source": [
    "ax = sns.displot(nota_média_dos_filmes_com_pelo_menos_10_votos.values)\n",
    "ax.set(xlabel='Nota  média do filme', ylabel='Densidade')\n",
    "plt.title(\"Média de votos em filmes no MOvelns 100k com pelmo menos 10 ou mais votos \")"
   ]
  },
  {
   "cell_type": "code",
   "execution_count": 25,
   "id": "991d763c-556a-4e73-a604-b43ebff3678e",
   "metadata": {},
   "outputs": [
    {
     "data": {
      "text/plain": [
       "Text(0.5, 1.0, 'Média de votos em filmes no Movelns 100k com pelmo menos 10 ou mais votos ')"
      ]
     },
     "execution_count": 25,
     "metadata": {},
     "output_type": "execute_result"
    },
    {
     "data": {
      "image/png": "[encoded data removed]",
      "text/plain": [
       "<Figure size 640x480 with 1 Axes>"
      ]
     },
     "metadata": {},
     "output_type": "display_data"
    }
   ],
   "source": [
    "ax = sns.histplot(nota_média_dos_filmes_com_pelo_menos_10_votos.values,\n",
    "                 cumulative= True)\n",
    "ax.set(xlabel='Nota  média do filme', ylabel='% acumulada de filmes')\n",
    "plt.title(\"Média de votos em filmes no Movelns 100k com pelmo menos 10 ou mais votos \")"
   ]
  },
  {
   "cell_type": "code",
   "execution_count": 26,
   "id": "d2307dd0-b395-4c4f-96fc-c3d99e31009a",
   "metadata": {},
   "outputs": [
    {
     "data": {
      "text/plain": [
       "Text(0.5, 1.0, 'Média de votos em filmes no TMBD 5000 dentre os filmes com mais de 10 votos')"
      ]
     },
     "execution_count": 26,
     "metadata": {},
     "output_type": "execute_result"
    },
    {
     "data": {
      "image/png": "[encoded data removed]",
      "text/plain": [
       "<Figure size 640x480 with 1 Axes>"
      ]
     },
     "metadata": {},
     "output_type": "display_data"
    }
   ],
   "source": [
    "ax=sns.boxplot(x=nota_média_dos_filmes_com_pelo_menos_10_votos.values)\n",
    "ax.set(xlabel='Nota  média do filme')\n",
    "plt.title(\"Média de votos em filmes no TMBD 5000 dentre os filmes com mais de 10 votos\")"
   ]
  },
  {
   "cell_type": "code",
   "execution_count": 27,
   "id": "c6693bb3-45c5-42e5-8b2f-1af0c00ddcd1",
   "metadata": {},
   "outputs": [],
   "source": [
    "# Analisando a distribuição dos dados capturandos de outros campos do TMDB"
   ]
  },
  {
   "cell_type": "code",
   "execution_count": 28,
   "id": "4171e5ad-b536-49ca-a365-0af0e3467d02",
   "metadata": {},
   "outputs": [
    {
     "data": {
      "text/plain": [
       "0       11800\n",
       "1        4500\n",
       "2        4466\n",
       "3        9106\n",
       "4        2124\n",
       "        ...  \n",
       "4790       17\n",
       "4792       63\n",
       "4796      658\n",
       "4798      238\n",
       "4802       16\n",
       "Name: vote_count, Length: 4392, dtype: int64"
      ]
     },
     "execution_count": 28,
     "metadata": {},
     "output_type": "execute_result"
    }
   ],
   "source": [
    "tmdb_com_mais_de_10_votos.vote_count"
   ]
  },
  {
   "cell_type": "code",
   "execution_count": 29,
   "id": "15906887-7109-4d6c-ad90-887c1ce05cf7",
   "metadata": {},
   "outputs": [
    {
     "data": {
      "text/plain": [
       "Text(0.5, 1.0, 'Média de votos em filmes no TMBD 5000 dentre os filmes com mais de 10 votos ')"
      ]
     },
     "execution_count": 29,
     "metadata": {},
     "output_type": "execute_result"
    },
    {
     "data": {
      "image/png": "[encoded data removed]",
      "text/plain": [
       "<Figure size 500x500 with 1 Axes>"
      ]
     },
     "metadata": {},
     "output_type": "display_data"
    }
   ],
   "source": [
    "ax = sns.displot(tmdb_com_mais_de_10_votos.vote_count)\n",
    "ax.set(xlabel='NUmero de votos', ylabel='Densidade')\n",
    "plt.title('Média de votos em filmes no TMBD 5000 dentre os filmes com mais de 10 votos ')"
   ]
  },
  {
   "cell_type": "code",
   "execution_count": 30,
   "id": "6395c7ef-bc0e-4955-b050-cc258f8d29f2",
   "metadata": {},
   "outputs": [
    {
     "data": {
      "text/plain": [
       "0       237000000\n",
       "1       300000000\n",
       "2       245000000\n",
       "3       250000000\n",
       "4       260000000\n",
       "          ...    \n",
       "4791           13\n",
       "4792        20000\n",
       "4796         7000\n",
       "4798       220000\n",
       "4799         9000\n",
       "Name: budget, Length: 3766, dtype: int64"
      ]
     },
     "execution_count": 30,
     "metadata": {},
     "output_type": "execute_result"
    }
   ],
   "source": [
    "tmdb.query(\"budget > 0\").budget"
   ]
  },
  {
   "cell_type": "code",
   "execution_count": 31,
   "id": "0e3361d0-5175-4929-b2d7-fee7147ff550",
   "metadata": {},
   "outputs": [
    {
     "data": {
      "text/plain": [
       "Text(0.5, 1.0, 'Gastos em filmes no TMBD 5000')"
      ]
     },
     "execution_count": 31,
     "metadata": {},
     "output_type": "execute_result"
    },
    {
     "data": {
      "image/png": "[encoded data removed]",
      "text/plain": [
       "<Figure size 500x500 with 1 Axes>"
      ]
     },
     "metadata": {},
     "output_type": "display_data"
    }
   ],
   "source": [
    "ax = sns.displot(tmdb.query(\"budget > 0\").budget)\n",
    "ax.set(xlabel='Budget (gastos)', ylabel='Densidade')\n",
    "plt.title('Gastos em filmes no TMBD 5000')"
   ]
  },
  {
   "cell_type": "code",
   "execution_count": 32,
   "id": "ef99ffc8-e8b2-4422-a2aa-6256b9646036",
   "metadata": {},
   "outputs": [
    {
     "data": {
      "text/html": [
       "<div>\n",
       "<style scoped>\n",
       "    .dataframe tbody tr th:only-of-type {\n",
       "        vertical-align: middle;\n",
       "    }\n",
       "\n",
       "    .dataframe tbody tr th {\n",
       "        vertical-align: top;\n",
       "    }\n",
       "\n",
       "    .dataframe thead th {\n",
       "        text-align: right;\n",
       "    }\n",
       "</style>\n",
       "<table border=\"1\" class=\"dataframe\">\n",
       "  <thead>\n",
       "    <tr style=\"text-align: right;\">\n",
       "      <th></th>\n",
       "      <th>budget</th>\n",
       "      <th>genres</th>\n",
       "      <th>homepage</th>\n",
       "      <th>id</th>\n",
       "      <th>keywords</th>\n",
       "      <th>original_language</th>\n",
       "      <th>original_title</th>\n",
       "      <th>overview</th>\n",
       "      <th>popularity</th>\n",
       "      <th>production_companies</th>\n",
       "      <th>production_countries</th>\n",
       "      <th>release_date</th>\n",
       "      <th>revenue</th>\n",
       "      <th>runtime</th>\n",
       "      <th>spoken_languages</th>\n",
       "      <th>status</th>\n",
       "      <th>tagline</th>\n",
       "      <th>title</th>\n",
       "      <th>vote_average</th>\n",
       "      <th>vote_count</th>\n",
       "    </tr>\n",
       "  </thead>\n",
       "  <tbody>\n",
       "    <tr>\n",
       "      <th>4553</th>\n",
       "      <td>0</td>\n",
       "      <td>[]</td>\n",
       "      <td>NaN</td>\n",
       "      <td>380097</td>\n",
       "      <td>[]</td>\n",
       "      <td>en</td>\n",
       "      <td>America Is Still the Place</td>\n",
       "      <td>1971 post civil rights San Francisco seemed li...</td>\n",
       "      <td>0.0</td>\n",
       "      <td>[]</td>\n",
       "      <td>[]</td>\n",
       "      <td>NaN</td>\n",
       "      <td>0</td>\n",
       "      <td>0.0</td>\n",
       "      <td>[]</td>\n",
       "      <td>Released</td>\n",
       "      <td>NaN</td>\n",
       "      <td>America Is Still the Place</td>\n",
       "      <td>0.0</td>\n",
       "      <td>0</td>\n",
       "    </tr>\n",
       "  </tbody>\n",
       "</table>\n",
       "</div>"
      ],
      "text/plain": [
       "      budget genres homepage      id keywords original_language  \\\n",
       "4553       0     []      NaN  380097       []                en   \n",
       "\n",
       "                  original_title  \\\n",
       "4553  America Is Still the Place   \n",
       "\n",
       "                                               overview  popularity  \\\n",
       "4553  1971 post civil rights San Francisco seemed li...         0.0   \n",
       "\n",
       "     production_companies production_countries release_date  revenue  runtime  \\\n",
       "4553                   []                   []          NaN        0      0.0   \n",
       "\n",
       "     spoken_languages    status tagline                       title  \\\n",
       "4553               []  Released     NaN  America Is Still the Place   \n",
       "\n",
       "      vote_average  vote_count  \n",
       "4553           0.0           0  "
      ]
     },
     "execution_count": 32,
     "metadata": {},
     "output_type": "execute_result"
    }
   ],
   "source": [
    "tmdb.query(\"popularity == 0\")"
   ]
  },
  {
   "cell_type": "code",
   "execution_count": 33,
   "id": "4ee10ec9-537a-454d-9ea5-6604435db08d",
   "metadata": {},
   "outputs": [
    {
     "data": {
      "text/plain": [
       "Text(0.5, 1.0, 'Gastos em filmes no TMBD 5000')"
      ]
     },
     "execution_count": 33,
     "metadata": {},
     "output_type": "execute_result"
    },
    {
     "data": {
      "image/png": "[encoded data removed]",
      "text/plain": [
       "<Figure size 500x500 with 1 Axes>"
      ]
     },
     "metadata": {},
     "output_type": "display_data"
    }
   ],
   "source": [
    "ax = sns.displot(tmdb.popularity)\n",
    "ax.set(xlabel='Popularidade', ylabel='Densidade')\n",
    "plt.title('Gastos em filmes no TMBD 5000')"
   ]
  },
  {
   "cell_type": "code",
   "execution_count": 34,
   "id": "2335e27b-36b9-4522-b834-4e002bd24ef1",
   "metadata": {},
   "outputs": [
    {
     "data": {
      "text/plain": [
       "Text(0.5, 1.0, 'Duração dos filmes no TMDB 5000')"
      ]
     },
     "execution_count": 34,
     "metadata": {},
     "output_type": "execute_result"
    },
    {
     "data": {
      "image/png": "[encoded data removed]",
      "text/plain": [
       "<Figure size 640x480 with 1 Axes>"
      ]
     },
     "metadata": {},
     "output_type": "display_data"
    }
   ],
   "source": [
    "ax = sns.histplot(tmdb.query(\"runtime>0\").runtime.dropna())\n",
    "ax.set(xlabel='Tempo de duração', ylabel='Densidade')\n",
    "ax.set_title('Duração dos filmes no TMDB 5000')"
   ]
  },
  {
   "cell_type": "code",
   "execution_count": 35,
   "id": "c67c0366-9336-4714-93b5-9e91c6572383",
   "metadata": {},
   "outputs": [
    {
     "data": {
      "text/plain": [
       "Text(0.5, 1.0, 'Duração dos filmes no TMDB 5000')"
      ]
     },
     "execution_count": 35,
     "metadata": {},
     "output_type": "execute_result"
    },
    {
     "data": {
      "image/png": "[encoded data removed]",
      "text/plain": [
       "<Figure size 640x480 with 1 Axes>"
      ]
     },
     "metadata": {},
     "output_type": "display_data"
    }
   ],
   "source": [
    "ax = sns.histplot(tmdb.query(\"runtime>0\").runtime.dropna(),\n",
    "                 cumulative = True,\n",
    "                 )\n",
    "ax.set(xlabel='Tempo de duração', ylabel='% de filmes')\n",
    "ax.set_title('Duração dos filmes no TMDB 5000')"
   ]
  },
  {
   "cell_type": "code",
   "execution_count": 36,
   "id": "af0bdc8c-06ab-47dd-b083-dccde2c0c343",
   "metadata": {},
   "outputs": [
    {
     "data": {
      "text/plain": [
       "np.float64(121.0)"
      ]
     },
     "execution_count": 36,
     "metadata": {},
     "output_type": "execute_result"
    }
   ],
   "source": [
    "tmdb.query(\"runtime>0\").runtime.dropna().quantile(q=0.8)"
   ]
  },
  {
   "cell_type": "raw",
   "id": "2c3f1f8d-47d7-4f8b-8eed-06842105ba07",
   "metadata": {},
   "source": [
    "# Movielens: média dos filmes com pelo menos 10 votos"
   ]
  },
  {
   "cell_type": "code",
   "execution_count": 37,
   "id": "9b834e5d-bc8d-4320-b4d3-288908bc925f",
   "metadata": {},
   "outputs": [
    {
     "data": {
      "text/plain": [
       "np.float64(3.4320503405352594)"
      ]
     },
     "execution_count": 37,
     "metadata": {},
     "output_type": "execute_result"
    }
   ],
   "source": [
    "nota_média_dos_filmes_com_pelo_menos_10_votos.mean()"
   ]
  },
  {
   "cell_type": "code",
   "execution_count": 38,
   "id": "312f3b2b-6815-43e7-a261-5ec0e4ae4e19",
   "metadata": {},
   "outputs": [
    {
     "data": {
      "text/plain": [
       "np.float64(3.5259741603585653)"
      ]
     },
     "execution_count": 38,
     "metadata": {},
     "output_type": "execute_result"
    }
   ],
   "source": [
    "nota_média_dos_filmes_com_pelo_menos_10_votos[0:5].mean()"
   ]
  },
  {
   "cell_type": "code",
   "execution_count": 39,
   "id": "137eaec1-58be-4491-8161-4c56e9fed1aa",
   "metadata": {},
   "outputs": [
    {
     "data": {
      "text/plain": [
       "2269"
      ]
     },
     "execution_count": 39,
     "metadata": {},
     "output_type": "execute_result"
    }
   ],
   "source": [
    "len(nota_média_dos_filmes_com_pelo_menos_10_votos)"
   ]
  },
  {
   "cell_type": "code",
   "execution_count": 40,
   "id": "f059f00a-8e24-44a5-b47e-e73af7861f05",
   "metadata": {},
   "outputs": [],
   "source": [
    "for i in range(1, len(nota_média_dos_filmes_com_pelo_menos_10_votos)):\n",
    "    nota_média_dos_filmes_com_pelo_menos_10_votos[0:i].mean()"
   ]
  },
  {
   "cell_type": "code",
   "execution_count": 41,
   "id": "9f615851-ea26-4ca8-a7da-af455ff439ba",
   "metadata": {},
   "outputs": [
    {
     "data": {
      "text/plain": [
       "[<matplotlib.lines.Line2D at 0x1fc34d7f560>]"
      ]
     },
     "execution_count": 41,
     "metadata": {},
     "output_type": "execute_result"
    },
    {
     "data": {
      "image/png": "[encoded data removed]",
      "text/plain": [
       "<Figure size 640x480 with 1 Axes>"
      ]
     },
     "metadata": {},
     "output_type": "display_data"
    }
   ],
   "source": [
    "medias = list()\n",
    "for i in range(1, len(nota_média_dos_filmes_com_pelo_menos_10_votos)):\n",
    "    medias.append(nota_média_dos_filmes_com_pelo_menos_10_votos[0:i].mean())\n",
    "plt.plot(medias)"
   ]
  },
  {
   "cell_type": "code",
   "execution_count": 42,
   "id": "2d0d1995-c665-423b-a750-fe5f35fe9da8",
   "metadata": {},
   "outputs": [
    {
     "data": {
      "text/plain": [
       "[<matplotlib.lines.Line2D at 0x1fc354c8170>]"
      ]
     },
     "execution_count": 42,
     "metadata": {},
     "output_type": "execute_result"
    },
    {
     "data": {
      "image/png": "[encoded data removed]",
      "text/plain": [
       "<Figure size 640x480 with 1 Axes>"
      ]
     },
     "metadata": {},
     "output_type": "display_data"
    }
   ],
   "source": [
    "import matplotlib.pyplot as plt\n",
    "import numpy as np\n",
    "\n",
    "np.random.seed(75243)\n",
    "temp = nota_média_dos_filmes_com_pelo_menos_10_votos.sample(frac=1)\n",
    "\n",
    "medias = list()\n",
    "for i in range(1, len(temp)):\n",
    "    medias.append(temp[0:i].mean())\n",
    "plt.plot(medias)"
   ]
  },
  {
   "cell_type": "code",
   "execution_count": 43,
   "id": "51843c9d-fea5-4063-b4e7-02c339c684e9",
   "metadata": {},
   "outputs": [
    {
     "data": {
      "text/plain": [
       "2269"
      ]
     },
     "execution_count": 43,
     "metadata": {},
     "output_type": "execute_result"
    }
   ],
   "source": [
    "len(nota_média_dos_filmes_com_pelo_menos_10_votos)"
   ]
  },
  {
   "cell_type": "code",
   "execution_count": 44,
   "id": "951704f8-9e6a-466c-aacb-966efee82f3a",
   "metadata": {},
   "outputs": [],
   "source": [
    "from statsmodels.stats.weightstats import zconfint"
   ]
  },
  {
   "cell_type": "code",
   "execution_count": 45,
   "id": "6bead60f-c66e-45ae-9153-77bfaec6d40e",
   "metadata": {},
   "outputs": [
    {
     "data": {
      "text/plain": [
       "(np.float64(3.4112459477469557), np.float64(3.452854733323563))"
      ]
     },
     "execution_count": 45,
     "metadata": {},
     "output_type": "execute_result"
    }
   ],
   "source": [
    "zconfint(nota_média_dos_filmes_com_pelo_menos_10_votos)"
   ]
  },
  {
   "cell_type": "code",
   "execution_count": 46,
   "id": "0f69ec23-59a8-43b8-8295-6a48cf303933",
   "metadata": {},
   "outputs": [],
   "source": [
    "from statsmodels.stats.weightstats import DescrStatsW"
   ]
  },
  {
   "cell_type": "code",
   "execution_count": 47,
   "id": "131b104e-151a-44b5-a8f2-1c678537bd6e",
   "metadata": {},
   "outputs": [
    {
     "data": {
      "text/plain": [
       "<statsmodels.stats.weightstats.DescrStatsW at 0x1fc34e3bce0>"
      ]
     },
     "execution_count": 47,
     "metadata": {},
     "output_type": "execute_result"
    }
   ],
   "source": [
    "descr_todos_com_10_votos = DescrStatsW(nota_média_dos_filmes_com_pelo_menos_10_votos)\n",
    "descr_todos_com_10_votos"
   ]
  },
  {
   "cell_type": "code",
   "execution_count": 48,
   "id": "30fd7cce-52b6-4971-aaa6-db4e1f1a2102",
   "metadata": {},
   "outputs": [
    {
     "data": {
      "text/plain": [
       "(np.float64(3.411234839229381), np.float64(3.4528658418411395))"
      ]
     },
     "execution_count": 48,
     "metadata": {},
     "output_type": "execute_result"
    }
   ],
   "source": [
    "descr_todos_com_10_votos.tconfint_mean()"
   ]
  },
  {
   "cell_type": "raw",
   "id": "68133b9b-3112-49ec-a128-6e2b1fce2c42",
   "metadata": {},
   "source": [
    "#Vamos ver o filme 1..."
   ]
  },
  {
   "cell_type": "code",
   "execution_count": 49,
   "id": "3eb8c1ac-25bf-4c8c-9d16-b458de63d8e5",
   "metadata": {},
   "outputs": [
    {
     "data": {
      "text/html": [
       "<div>\n",
       "<style scoped>\n",
       "    .dataframe tbody tr th:only-of-type {\n",
       "        vertical-align: middle;\n",
       "    }\n",
       "\n",
       "    .dataframe tbody tr th {\n",
       "        vertical-align: top;\n",
       "    }\n",
       "\n",
       "    .dataframe thead th {\n",
       "        text-align: right;\n",
       "    }\n",
       "</style>\n",
       "<table border=\"1\" class=\"dataframe\">\n",
       "  <thead>\n",
       "    <tr style=\"text-align: right;\">\n",
       "      <th></th>\n",
       "      <th>movieId</th>\n",
       "      <th>title</th>\n",
       "      <th>genres</th>\n",
       "    </tr>\n",
       "  </thead>\n",
       "  <tbody>\n",
       "    <tr>\n",
       "      <th>0</th>\n",
       "      <td>1</td>\n",
       "      <td>Toy Story (1995)</td>\n",
       "      <td>Adventure|Animation|Children|Comedy|Fantasy</td>\n",
       "    </tr>\n",
       "  </tbody>\n",
       "</table>\n",
       "</div>"
      ],
      "text/plain": [
       "   movieId             title                                       genres\n",
       "0        1  Toy Story (1995)  Adventure|Animation|Children|Comedy|Fantasy"
      ]
     },
     "execution_count": 49,
     "metadata": {},
     "output_type": "execute_result"
    }
   ],
   "source": [
    "filmes = pd.read_csv(\"movies.csv\")\n",
    "filmes.query(\"movieId==1\")"
   ]
  },
  {
   "cell_type": "code",
   "execution_count": 50,
   "id": "7d7575b4-0d08-4528-8f6d-f829b8e440dd",
   "metadata": {},
   "outputs": [
    {
     "data": {
      "text/html": [
       "<div>\n",
       "<style scoped>\n",
       "    .dataframe tbody tr th:only-of-type {\n",
       "        vertical-align: middle;\n",
       "    }\n",
       "\n",
       "    .dataframe tbody tr th {\n",
       "        vertical-align: top;\n",
       "    }\n",
       "\n",
       "    .dataframe thead th {\n",
       "        text-align: right;\n",
       "    }\n",
       "</style>\n",
       "<table border=\"1\" class=\"dataframe\">\n",
       "  <thead>\n",
       "    <tr style=\"text-align: right;\">\n",
       "      <th></th>\n",
       "      <th>userId</th>\n",
       "      <th>movieId</th>\n",
       "      <th>rating</th>\n",
       "      <th>timestamp</th>\n",
       "    </tr>\n",
       "  </thead>\n",
       "  <tbody>\n",
       "    <tr>\n",
       "      <th>0</th>\n",
       "      <td>1</td>\n",
       "      <td>1</td>\n",
       "      <td>4.0</td>\n",
       "      <td>964982703</td>\n",
       "    </tr>\n",
       "    <tr>\n",
       "      <th>516</th>\n",
       "      <td>5</td>\n",
       "      <td>1</td>\n",
       "      <td>4.0</td>\n",
       "      <td>847434962</td>\n",
       "    </tr>\n",
       "    <tr>\n",
       "      <th>874</th>\n",
       "      <td>7</td>\n",
       "      <td>1</td>\n",
       "      <td>4.5</td>\n",
       "      <td>1106635946</td>\n",
       "    </tr>\n",
       "    <tr>\n",
       "      <th>1434</th>\n",
       "      <td>15</td>\n",
       "      <td>1</td>\n",
       "      <td>2.5</td>\n",
       "      <td>1510577970</td>\n",
       "    </tr>\n",
       "    <tr>\n",
       "      <th>1667</th>\n",
       "      <td>17</td>\n",
       "      <td>1</td>\n",
       "      <td>4.5</td>\n",
       "      <td>1305696483</td>\n",
       "    </tr>\n",
       "  </tbody>\n",
       "</table>\n",
       "</div>"
      ],
      "text/plain": [
       "      userId  movieId  rating   timestamp\n",
       "0          1        1     4.0   964982703\n",
       "516        5        1     4.0   847434962\n",
       "874        7        1     4.5  1106635946\n",
       "1434      15        1     2.5  1510577970\n",
       "1667      17        1     4.5  1305696483"
      ]
     },
     "execution_count": 50,
     "metadata": {},
     "output_type": "execute_result"
    }
   ],
   "source": [
    "notas1 = notas.query(\"movieId ==1\")\n",
    "notas1.head()"
   ]
  },
  {
   "cell_type": "code",
   "execution_count": 51,
   "id": "aec1843c-da00-4e43-8850-f6c708754ae5",
   "metadata": {},
   "outputs": [
    {
     "data": {
      "text/plain": [
       "Text(0.5, 1.0, 'Distribuição das notas para o Toy Story')"
      ]
     },
     "execution_count": 51,
     "metadata": {},
     "output_type": "execute_result"
    },
    {
     "data": {
      "image/png": "[encoded data removed]",
      "text/plain": [
       "<Figure size 640x480 with 1 Axes>"
      ]
     },
     "metadata": {},
     "output_type": "display_data"
    }
   ],
   "source": [
    "ax = sns.histplot(notas1.rating)\n",
    "ax.set(xlabel='Notas do Toy Story', ylabel='Densidade')\n",
    "ax.set_title('Distribuição das notas para o Toy Story')"
   ]
  },
  {
   "cell_type": "code",
   "execution_count": 52,
   "id": "b5827cb0-20fd-497f-b297-34fd2e74f7a5",
   "metadata": {},
   "outputs": [
    {
     "data": {
      "text/plain": [
       "Text(0.5, 1.0, 'Distribuição das notas para o Toy Story')"
      ]
     },
     "execution_count": 52,
     "metadata": {},
     "output_type": "execute_result"
    },
    {
     "data": {
      "image/png": "[encoded data removed]",
      "text/plain": [
       "<Figure size 640x480 with 1 Axes>"
      ]
     },
     "metadata": {},
     "output_type": "display_data"
    }
   ],
   "source": [
    "ax = sns.boxplot(notas1.rating)\n",
    "ax.set(xlabel='Notas')\n",
    "ax.set_title('Distribuição das notas para o Toy Story')"
   ]
  },
  {
   "cell_type": "code",
   "execution_count": 53,
   "id": "72aa9d06-69be-40bb-9e10-4c2dc011ca08",
   "metadata": {},
   "outputs": [
    {
     "data": {
      "text/plain": [
       "np.float64(3.9209302325581397)"
      ]
     },
     "execution_count": 53,
     "metadata": {},
     "output_type": "execute_result"
    }
   ],
   "source": [
    "notas1.rating.mean()"
   ]
  },
  {
   "cell_type": "code",
   "execution_count": 54,
   "id": "cb9cc09f-eb6c-4302-9fc0-b6364c52af1a",
   "metadata": {},
   "outputs": [
    {
     "data": {
      "text/plain": [
       "np.int64(215)"
      ]
     },
     "execution_count": 54,
     "metadata": {},
     "output_type": "execute_result"
    }
   ],
   "source": [
    "notas1.rating.count()"
   ]
  },
  {
   "cell_type": "code",
   "execution_count": 55,
   "id": "efeda2a3-c23c-40de-bacb-688d4f54980c",
   "metadata": {},
   "outputs": [
    {
     "data": {
      "text/plain": [
       "(np.float64(3.8093359183563402), np.float64(4.032524546759939))"
      ]
     },
     "execution_count": 55,
     "metadata": {},
     "output_type": "execute_result"
    }
   ],
   "source": [
    "zconfint(notas1.rating)"
   ]
  },
  {
   "cell_type": "code",
   "execution_count": 56,
   "id": "0cfb5c43-cf45-46fc-a07e-12889b887cbe",
   "metadata": {},
   "outputs": [
    {
     "data": {
      "text/plain": [
       "(np.float64(8.586342305916716), np.float64(8.978190401886942e-18))"
      ]
     },
     "execution_count": 56,
     "metadata": {},
     "output_type": "execute_result"
    }
   ],
   "source": [
    "from statsmodels.stats.weightstats import ztest\n",
    "\n",
    "ztest(notas1.rating, value = 3.4320503405352603)"
   ]
  },
  {
   "cell_type": "code",
   "execution_count": 57,
   "id": "5ace40b9-097c-4e0e-af32-2a3514833cac",
   "metadata": {},
   "outputs": [
    {
     "data": {
      "text/plain": [
       "[<matplotlib.lines.Line2D at 0x1fc359d0ef0>]"
      ]
     },
     "execution_count": 57,
     "metadata": {},
     "output_type": "execute_result"
    },
    {
     "data": {
      "image/png": "[encoded data removed]",
      "text/plain": [
       "<Figure size 640x480 with 1 Axes>"
      ]
     },
     "metadata": {},
     "output_type": "display_data"
    }
   ],
   "source": [
    "np.random.seed(75241)\n",
    "temp = notas1.sample(frac=1).rating\n",
    "\n",
    "medias = [temp[0:i].mean() for i in range(1, len(temp))]\n",
    "\n",
    "plt.plot(medias)"
   ]
  },
  {
   "cell_type": "code",
   "execution_count": 58,
   "id": "2ec6874d-dbab-4adf-91b1-e398c9cc9d7d",
   "metadata": {},
   "outputs": [
    {
     "data": {
      "text/plain": [
       "[(np.float64(4.5), np.float64(0.032687621135204896)),\n",
       " (np.float64(4.0), np.float64(0.3252543510880489)),\n",
       " (np.float64(3.875), np.float64(0.29952196979944745)),\n",
       " (np.float64(3.9), np.float64(0.15826781784711086)),\n",
       " (np.float64(3.9166666666666665), np.float64(0.07406936464331344)),\n",
       " (np.float64(3.9285714285714284), np.float64(0.03058372185045264)),\n",
       " (np.float64(4.0625), np.float64(0.008546846816661634)),\n",
       " (np.float64(3.9444444444444446), np.float64(0.034351369792154834)),\n",
       " (np.float64(3.6), np.float64(0.6797757440816464)),\n",
       " (np.float64(3.590909090909091), np.float64(0.6661040559180447)),\n",
       " (np.float64(3.5), np.float64(0.8452594429449549)),\n",
       " (np.float64(3.5), np.float64(0.8319722700425317)),\n",
       " (np.float64(3.5357142857142856), np.float64(0.7285036535608292)),\n",
       " (np.float64(3.6), np.float64(0.5561564945645507)),\n",
       " (np.float64(3.5625), np.float64(0.6284166359766319)),\n",
       " (np.float64(3.6470588235294117), np.float64(0.42056196093078513)),\n",
       " (np.float64(3.7222222222222223), np.float64(0.2692718087435868)),\n",
       " (np.float64(3.6842105263157894), np.float64(0.3157395629293568)),\n",
       " (np.float64(3.65), np.float64(0.36558117183067695)),\n",
       " (np.float64(3.5714285714285716), np.float64(0.5650170364597873)),\n",
       " (np.float64(3.590909090909091), np.float64(0.4930885087384419)),\n",
       " (np.float64(3.608695652173913), np.float64(0.4265824656611449)),\n",
       " (np.float64(3.625), np.float64(0.36578337526912086)),\n",
       " (np.float64(3.64), np.float64(0.3108287352909964)),\n",
       " (np.float64(3.6538461538461537), np.float64(0.26171758950670954)),\n",
       " (np.float64(3.6481481481481484), np.float64(0.2559999054486449)),\n",
       " (np.float64(3.6964285714285716), np.float64(0.16314137427171593)),\n",
       " (np.float64(3.7413793103448274), np.float64(0.10054986793464257)),\n",
       " (np.float64(3.7333333333333334), np.float64(0.09812718831667805)),\n",
       " (np.float64(3.7419354838709675), np.float64(0.07894877889458934)),\n",
       " (np.float64(3.671875), np.float64(0.19389049416761317)),\n",
       " (np.float64(3.6666666666666665), np.float64(0.18994435269346233)),\n",
       " (np.float64(3.7058823529411766), np.float64(0.12400478766945784)),\n",
       " (np.float64(3.742857142857143), np.float64(0.07870821336871098)),\n",
       " (np.float64(3.7222222222222223), np.float64(0.09353576061527746)),\n",
       " (np.float64(3.7027027027027026), np.float64(0.11013590254134484)),\n",
       " (np.float64(3.736842105263158), np.float64(0.070293980214127)),\n",
       " (np.float64(3.7435897435897436), np.float64(0.057719600728433226)),\n",
       " (np.float64(3.725), np.float64(0.06895669959313765)),\n",
       " (np.float64(3.7560975609756095), np.float64(0.043027696867534854)),\n",
       " (np.float64(3.7857142857142856), np.float64(0.026192682251694282)),\n",
       " (np.float64(3.813953488372093), np.float64(0.015559932099710492)),\n",
       " (np.float64(3.8181818181818183), np.float64(0.012332725389413516)),\n",
       " (np.float64(3.8222222222222224), np.float64(0.00971325069982623)),\n",
       " (np.float64(3.8043478260869565), np.float64(0.012260404094830826)),\n",
       " (np.float64(3.7872340425531914), np.float64(0.015299059283941084)),\n",
       " (np.float64(3.8125), np.float64(0.0089661888797497)),\n",
       " (np.float64(3.806122448979592), np.float64(0.008766884002523938)),\n",
       " (np.float64(3.81), np.float64(0.006897537294395224)),\n",
       " (np.float64(3.8137254901960786), np.float64(0.005394516156167565)),\n",
       " (np.float64(3.8173076923076925), np.float64(0.004193844231736312)),\n",
       " (np.float64(3.80188679245283), np.float64(0.005385212289644282)),\n",
       " (np.float64(3.8055555555555554), np.float64(0.004195763368449785)),\n",
       " (np.float64(3.790909090909091), np.float64(0.005368352947838336)),\n",
       " (np.float64(3.7767857142857144), np.float64(0.006794205663451532)),\n",
       " (np.float64(3.763157894736842), np.float64(0.0085122202010019)),\n",
       " (np.float64(3.7844827586206895), np.float64(0.004975558567317606)),\n",
       " (np.float64(3.788135593220339), np.float64(0.003904050433428437)),\n",
       " (np.float64(3.808333333333333), np.float64(0.0022169155153936113)),\n",
       " (np.float64(3.8114754098360657), np.float64(0.0017134856636438819)),\n",
       " (np.float64(3.7983870967741935), np.float64(0.0022185468321933607)),\n",
       " (np.float64(3.7936507936507935), np.float64(0.0021667091142656882)),\n",
       " (np.float64(3.7890625), np.float64(0.0021155742986059037)),\n",
       " (np.float64(3.792307692307692), np.float64(0.001638169688311084)),\n",
       " (np.float64(3.7803030303030303), np.float64(0.002112904717074153)),\n",
       " (np.float64(3.783582089552239), np.float64(0.0016391796508841768)),\n",
       " (np.float64(3.7720588235294117), np.float64(0.002107877006211813)),\n",
       " (np.float64(3.7753623188405796), np.float64(0.001638208006937132)),\n",
       " (np.float64(3.7785714285714285), np.float64(0.0012667046775475992)),\n",
       " (np.float64(3.76056338028169), np.float64(0.0022426047709492537)),\n",
       " (np.float64(3.763888888888889), np.float64(0.0017525084760790894)),\n",
       " (np.float64(3.7739726027397262), np.float64(0.0011365250751412)),\n",
       " (np.float64(3.7905405405405403), np.float64(0.0006361085905667348)),\n",
       " (np.float64(3.8066666666666666), np.float64(0.00035042445221225517)),\n",
       " (np.float64(3.8157894736842106), np.float64(0.00021841519783205381)),\n",
       " (np.float64(3.811688311688312), np.float64(0.0002133389727594162)),\n",
       " (np.float64(3.8141025641025643), np.float64(0.0001607423772756106)),\n",
       " (np.float64(3.8164556962025316), np.float64(0.00012053616176043722)),\n",
       " (np.float64(3.83125), np.float64(6.355135417245393e-05)),\n",
       " (np.float64(3.845679012345679), np.float64(3.300722928041108e-05)),\n",
       " (np.float64(3.841463414634146), np.float64(3.2304003745802037e-05)),\n",
       " (np.float64(3.8433734939759034), np.float64(2.374556884407959e-05)),\n",
       " (np.float64(3.857142857142857), np.float64(1.2077073301628071e-05)),\n",
       " (np.float64(3.847058823529412), np.float64(1.7088673225760976e-05)),\n",
       " (np.float64(3.8313953488372094), np.float64(3.608185615666001e-05)),\n",
       " (np.float64(3.8333333333333335), np.float64(2.681257612846113e-05)),\n",
       " (np.float64(3.8238636363636362), np.float64(3.681562512354262e-05)),\n",
       " (np.float64(3.808988764044944), np.float64(7.313870608516293e-05)),\n",
       " (np.float64(3.811111111111111), np.float64(5.525606847923858e-05)),\n",
       " (np.float64(3.8131868131868134), np.float64(4.1572170968967595e-05)),\n",
       " (np.float64(3.8206521739130435), np.float64(2.5405085322214197e-05)),\n",
       " (np.float64(3.8225806451612905), np.float64(1.891161316381205e-05)),\n",
       " (np.float64(3.824468085106383), np.float64(1.4019284811900051e-05)),\n",
       " (np.float64(3.8157894736842106), np.float64(1.930024518470624e-05)),\n",
       " (np.float64(3.8177083333333335), np.float64(1.4337154349835086e-05)),\n",
       " (np.float64(3.829896907216495), np.float64(7.470440358184904e-06)),\n",
       " (np.float64(3.8418367346938775), np.float64(3.843679820388642e-06)),\n",
       " (np.float64(3.823232323232323), np.float64(1.3101881021708747e-05)),\n",
       " (np.float64(3.815), np.float64(1.773810320525232e-05)),\n",
       " (np.float64(3.797029702970297), np.float64(5.156319239792069e-05)),\n",
       " (np.float64(3.799019607843137), np.float64(3.956916550250528e-05)),\n",
       " (np.float64(3.7815533980582523), np.float64(0.00010532490098882292)),\n",
       " (np.float64(3.7836538461538463), np.float64(8.207340957567451e-05)),\n",
       " (np.float64(3.7857142857142856), np.float64(6.373666797007717e-05)),\n",
       " (np.float64(3.7877358490566038), np.float64(4.932762068137014e-05)),\n",
       " (np.float64(3.794392523364486), np.float64(3.158510492524062e-05)),\n",
       " (np.float64(3.7824074074074074), np.float64(5.741195652105531e-05)),\n",
       " (np.float64(3.7844036697247705), np.float64(4.452063805181686e-05)),\n",
       " (np.float64(3.7954545454545454), np.float64(2.5034997999585643e-05)),\n",
       " (np.float64(3.8018018018018016), np.float64(1.593383648900579e-05)),\n",
       " (np.float64(3.8035714285714284), np.float64(1.2181676067708934e-05)),\n",
       " (np.float64(3.8053097345132745), np.float64(9.282385148662153e-06)),\n",
       " (np.float64(3.807017543859649), np.float64(7.049800097807919e-06)),\n",
       " (np.float64(3.8086956521739133), np.float64(5.336512954125956e-06)),\n",
       " (np.float64(3.8017241379310347), np.float64(7.132420343988585e-06)),\n",
       " (np.float64(3.8119658119658117), np.float64(3.8777239631651985e-06)),\n",
       " (np.float64(3.809322033898305), np.float64(3.7890245418405273e-06)),\n",
       " (np.float64(3.80672268907563), np.float64(3.701652394675697e-06)),\n",
       " (np.float64(3.8041666666666667), np.float64(3.6156244484077235e-06)),\n",
       " (np.float64(3.809917355371901), np.float64(2.234409015059164e-06)),\n",
       " (np.float64(3.819672131147541), np.float64(1.1935921381583365e-06)),\n",
       " (np.float64(3.821138211382114), np.float64(8.907771906449632e-07)),\n",
       " (np.float64(3.814516129032258), np.float64(1.2165528009735344e-06)),\n",
       " (np.float64(3.808), np.float64(1.6492029231809994e-06)),\n",
       " (np.float64(3.8095238095238093), np.float64(1.2383902023580329e-06)),\n",
       " (np.float64(3.7992125984251968), np.float64(2.4447090501870245e-06)),\n",
       " (np.float64(3.80859375), np.float64(1.3259626346058774e-06)),\n",
       " (np.float64(3.802325581395349), np.float64(1.7799716841358229e-06)),\n",
       " (np.float64(3.7884615384615383), np.float64(5.106740278151876e-06)),\n",
       " (np.float64(3.786259541984733), np.float64(4.986913728968981e-06)),\n",
       " (np.float64(3.7954545454545454), np.float64(2.7799402746913627e-06)),\n",
       " (np.float64(3.793233082706767), np.float64(2.715247214619515e-06)),\n",
       " (np.float64(3.794776119402985), np.float64(2.075872794199074e-06)),\n",
       " (np.float64(3.785185185185185), np.float64(3.869818273690176e-06)),\n",
       " (np.float64(3.786764705882353), np.float64(2.9771501112494567e-06)),\n",
       " (np.float64(3.7846715328467155), np.float64(2.906855295169462e-06)),\n",
       " (np.float64(3.786231884057971), np.float64(2.229978257172786e-06)),\n",
       " (np.float64(3.7805755395683454), np.float64(2.9230205434969024e-06)),\n",
       " (np.float64(3.7857142857142856), np.float64(1.861736987479408e-06)),\n",
       " (np.float64(3.780141843971631), np.float64(2.441850783063681e-06)),\n",
       " (np.float64(3.7816901408450705), np.float64(1.8743496554091788e-06)),\n",
       " (np.float64(3.7832167832167833), np.float64(1.4348129269825041e-06)),\n",
       " (np.float64(3.7847222222222223), np.float64(1.095348909552448e-06)),\n",
       " (np.float64(3.786206896551724), np.float64(8.33914593413763e-07)),\n",
       " (np.float64(3.7945205479452055), np.float64(4.5654100105346796e-07)),\n",
       " (np.float64(3.802721088435374), np.float64(2.4781068087348057e-07)),\n",
       " (np.float64(3.804054054054054), np.float64(1.8647631467675183e-07)),\n",
       " (np.float64(3.8053691275167787), np.float64(1.3994497318116365e-07)),\n",
       " (np.float64(3.8066666666666666), np.float64(1.0474187906210276e-07)),\n",
       " (np.float64(3.814569536423841), np.float64(5.563873816774276e-08)),\n",
       " (np.float64(3.8223684210526314), np.float64(2.9310557354650833e-08)),\n",
       " (np.float64(3.823529411764706), np.float64(2.169106984430368e-08)),\n",
       " (np.float64(3.8279220779220777), np.float64(1.296533237512879e-08)),\n",
       " (np.float64(3.835483870967742), np.float64(6.697213587518621e-09)),\n",
       " (np.float64(3.8365384615384617), np.float64(4.90242789582791e-09)),\n",
       " (np.float64(3.837579617834395), np.float64(3.579198670373318e-09)),\n",
       " (np.float64(3.8322784810126582), np.float64(5.065038279328382e-09)),\n",
       " (np.float64(3.839622641509434), np.float64(2.593122661980238e-09)),\n",
       " (np.float64(3.840625), np.float64(1.888254008877338e-09)),\n",
       " (np.float64(3.829192546583851), np.float64(6.898626484283051e-09)),\n",
       " (np.float64(3.830246913580247), np.float64(5.088654193995244e-09)),\n",
       " (np.float64(3.831288343558282), np.float64(3.744165106538347e-09)),\n",
       " (np.float64(3.826219512195122), np.float64(5.23409616911476e-09)),\n",
       " (np.float64(3.8333333333333335), np.float64(2.715045381204715e-09)),\n",
       " (np.float64(3.8343373493975905), np.float64(1.992485631104046e-09)),\n",
       " (np.float64(3.841317365269461), np.float64(1.021658248002295e-09)),\n",
       " (np.float64(3.8452380952380953), np.float64(5.986014433616568e-10)),\n",
       " (np.float64(3.8520710059171597), np.float64(3.026046512497991e-10)),\n",
       " (np.float64(3.85), np.float64(2.9667891226340393e-10)),\n",
       " (np.float64(3.8508771929824563), np.float64(2.1473424779915278e-10)),\n",
       " (np.float64(3.8459302325581395), np.float64(3.0874119233632277e-10)),\n",
       " (np.float64(3.8497109826589595), np.float64(1.7917893544489147e-10)),\n",
       " (np.float64(3.8505747126436782), np.float64(1.2939702905988413e-10)),\n",
       " (np.float64(3.854285714285714), np.float64(7.437375301814674e-11)),\n",
       " (np.float64(3.8607954545454546), np.float64(3.68536489501502e-11)),\n",
       " (np.float64(3.867231638418079), np.float64(1.8128994549484078e-11)),\n",
       " (np.float64(3.8707865168539324), np.float64(1.0226884113071301e-11)),\n",
       " (np.float64(3.863128491620112), np.float64(2.476407211840968e-11)),\n",
       " (np.float64(3.863888888888889), np.float64(1.7738569534234892e-11)),\n",
       " (np.float64(3.8701657458563536), np.float64(8.709233016873075e-12)),\n",
       " (np.float64(3.870879120879121), np.float64(6.201886620364462e-12)),\n",
       " (np.float64(3.866120218579235), np.float64(9.186029818083115e-12)),\n",
       " (np.float64(3.8668478260869565), np.float64(6.5513651601619266e-12)),\n",
       " (np.float64(3.8702702702702703), np.float64(3.688482306426002e-12)),\n",
       " (np.float64(3.8763440860215055), np.float64(1.787257905280176e-12)),\n",
       " (np.float64(3.8823529411764706), np.float64(8.600037830948384e-13)),\n",
       " (np.float64(3.882978723404255), np.float64(6.056150219694947e-13)),\n",
       " (np.float64(3.8835978835978837), np.float64(4.2551292144889585e-13)),\n",
       " (np.float64(3.886842105263158), np.float64(2.3370424038676717e-13)),\n",
       " (np.float64(3.887434554973822), np.float64(1.6326985261947053e-13)),\n",
       " (np.float64(3.8880208333333335), np.float64(1.1380629973295943e-13)),\n",
       " (np.float64(3.88860103626943), np.float64(7.91493424125946e-14)),\n",
       " (np.float64(3.8917525773195876), np.float64(4.278258438283099e-14)),\n",
       " (np.float64(3.8923076923076922), np.float64(2.958555465053197e-14)),\n",
       " (np.float64(3.8877551020408165), np.float64(4.623476152843946e-14)),\n",
       " (np.float64(3.8908629441624365), np.float64(2.493280074064741e-14)),\n",
       " (np.float64(3.893939393939394), np.float64(1.3370684043107038e-14)),\n",
       " (np.float64(3.899497487437186), np.float64(6.160613753635314e-15)),\n",
       " (np.float64(3.895), np.float64(9.749074156510373e-15)),\n",
       " (np.float64(3.8955223880597014), np.float64(6.7127681104016146e-15)),\n",
       " (np.float64(3.896039603960396), np.float64(4.611952007016571e-15)),\n",
       " (np.float64(3.896551724137931), np.float64(3.1616414709692205e-15)),\n",
       " (np.float64(3.9019607843137254), np.float64(1.443848995257856e-15)),\n",
       " (np.float64(3.897560975609756), np.float64(2.309845735394206e-15)),\n",
       " (np.float64(3.9029126213592233), np.float64(1.0555998801123747e-15)),\n",
       " (np.float64(3.9082125603864735), np.float64(4.793088683620974e-16)),\n",
       " (np.float64(3.9086538461538463), np.float64(3.260991041831808e-16)),\n",
       " (np.float64(3.9138755980861246), np.float64(1.466694033719233e-16)),\n",
       " (np.float64(3.914285714285714), np.float64(9.927030087378508e-17)),\n",
       " (np.float64(3.914691943127962), np.float64(6.704625749290763e-17)),\n",
       " (np.float64(3.9150943396226414), np.float64(4.518611521397103e-17)),\n",
       " (np.float64(3.915492957746479), np.float64(3.038859398683116e-17)),\n",
       " (np.float64(3.9205607476635516), np.float64(1.3418325209316871e-17))]"
      ]
     },
     "execution_count": 58,
     "metadata": {},
     "output_type": "execute_result"
    }
   ],
   "source": [
    "np.random.seed(75241)\n",
    "temp = notas1.sample(frac=1).rating\n",
    "\n",
    "def calcula_teste(i):\n",
    "    media = temp[0:i].mean()\n",
    "    stat, p = ztest(temp[0:i], value = 3.4320503405352603) \n",
    "    return (media, p)\n",
    "\n",
    "medias = [calcula_teste(i) for i in range(2, len(temp))]\n",
    "medias"
   ]
  },
  {
   "cell_type": "code",
   "execution_count": 59,
   "id": "76121c67-c8eb-438a-a785-67c059bfb748",
   "metadata": {},
   "outputs": [
    {
     "data": {
      "text/plain": [
       "[(2, np.float64(4.5), np.float64(0.032687621135204896)),\n",
       " (3, np.float64(4.0), np.float64(0.3252543510880489)),\n",
       " (4, np.float64(3.875), np.float64(0.29952196979944745)),\n",
       " (5, np.float64(3.9), np.float64(0.15826781784711086)),\n",
       " (6, np.float64(3.9166666666666665), np.float64(0.07406936464331344)),\n",
       " (7, np.float64(3.9285714285714284), np.float64(0.03058372185045264)),\n",
       " (8, np.float64(4.0625), np.float64(0.008546846816661634)),\n",
       " (9, np.float64(3.9444444444444446), np.float64(0.034351369792154834)),\n",
       " (10, np.float64(3.6), np.float64(0.6797757440816464)),\n",
       " (11, np.float64(3.590909090909091), np.float64(0.6661040559180447)),\n",
       " (12, np.float64(3.5), np.float64(0.8452594429449549)),\n",
       " (13, np.float64(3.5), np.float64(0.8319722700425317)),\n",
       " (14, np.float64(3.5357142857142856), np.float64(0.7285036535608292)),\n",
       " (15, np.float64(3.6), np.float64(0.5561564945645507)),\n",
       " (16, np.float64(3.5625), np.float64(0.6284166359766319)),\n",
       " (17, np.float64(3.6470588235294117), np.float64(0.42056196093078513)),\n",
       " (18, np.float64(3.7222222222222223), np.float64(0.2692718087435868)),\n",
       " (19, np.float64(3.6842105263157894), np.float64(0.3157395629293568)),\n",
       " (20, np.float64(3.65), np.float64(0.36558117183067695)),\n",
       " (21, np.float64(3.5714285714285716), np.float64(0.5650170364597873)),\n",
       " (22, np.float64(3.590909090909091), np.float64(0.4930885087384419)),\n",
       " (23, np.float64(3.608695652173913), np.float64(0.4265824656611449)),\n",
       " (24, np.float64(3.625), np.float64(0.36578337526912086)),\n",
       " (25, np.float64(3.64), np.float64(0.3108287352909964)),\n",
       " (26, np.float64(3.6538461538461537), np.float64(0.26171758950670954)),\n",
       " (27, np.float64(3.6481481481481484), np.float64(0.2559999054486449)),\n",
       " (28, np.float64(3.6964285714285716), np.float64(0.16314137427171593)),\n",
       " (29, np.float64(3.7413793103448274), np.float64(0.10054986793464257)),\n",
       " (30, np.float64(3.7333333333333334), np.float64(0.09812718831667805)),\n",
       " (31, np.float64(3.7419354838709675), np.float64(0.07894877889458934)),\n",
       " (32, np.float64(3.671875), np.float64(0.19389049416761317)),\n",
       " (33, np.float64(3.6666666666666665), np.float64(0.18994435269346233)),\n",
       " (34, np.float64(3.7058823529411766), np.float64(0.12400478766945784)),\n",
       " (35, np.float64(3.742857142857143), np.float64(0.07870821336871098)),\n",
       " (36, np.float64(3.7222222222222223), np.float64(0.09353576061527746)),\n",
       " (37, np.float64(3.7027027027027026), np.float64(0.11013590254134484)),\n",
       " (38, np.float64(3.736842105263158), np.float64(0.070293980214127)),\n",
       " (39, np.float64(3.7435897435897436), np.float64(0.057719600728433226)),\n",
       " (40, np.float64(3.725), np.float64(0.06895669959313765)),\n",
       " (41, np.float64(3.7560975609756095), np.float64(0.043027696867534854)),\n",
       " (42, np.float64(3.7857142857142856), np.float64(0.026192682251694282)),\n",
       " (43, np.float64(3.813953488372093), np.float64(0.015559932099710492)),\n",
       " (44, np.float64(3.8181818181818183), np.float64(0.012332725389413516)),\n",
       " (45, np.float64(3.8222222222222224), np.float64(0.00971325069982623)),\n",
       " (46, np.float64(3.8043478260869565), np.float64(0.012260404094830826)),\n",
       " (47, np.float64(3.7872340425531914), np.float64(0.015299059283941084)),\n",
       " (48, np.float64(3.8125), np.float64(0.0089661888797497)),\n",
       " (49, np.float64(3.806122448979592), np.float64(0.008766884002523938)),\n",
       " (50, np.float64(3.81), np.float64(0.006897537294395224)),\n",
       " (51, np.float64(3.8137254901960786), np.float64(0.005394516156167565)),\n",
       " (52, np.float64(3.8173076923076925), np.float64(0.004193844231736312)),\n",
       " (53, np.float64(3.80188679245283), np.float64(0.005385212289644282)),\n",
       " (54, np.float64(3.8055555555555554), np.float64(0.004195763368449785)),\n",
       " (55, np.float64(3.790909090909091), np.float64(0.005368352947838336)),\n",
       " (56, np.float64(3.7767857142857144), np.float64(0.006794205663451532)),\n",
       " (57, np.float64(3.763157894736842), np.float64(0.0085122202010019)),\n",
       " (58, np.float64(3.7844827586206895), np.float64(0.004975558567317606)),\n",
       " (59, np.float64(3.788135593220339), np.float64(0.003904050433428437)),\n",
       " (60, np.float64(3.808333333333333), np.float64(0.0022169155153936113)),\n",
       " (61, np.float64(3.8114754098360657), np.float64(0.0017134856636438819)),\n",
       " (62, np.float64(3.7983870967741935), np.float64(0.0022185468321933607)),\n",
       " (63, np.float64(3.7936507936507935), np.float64(0.0021667091142656882)),\n",
       " (64, np.float64(3.7890625), np.float64(0.0021155742986059037)),\n",
       " (65, np.float64(3.792307692307692), np.float64(0.001638169688311084)),\n",
       " (66, np.float64(3.7803030303030303), np.float64(0.002112904717074153)),\n",
       " (67, np.float64(3.783582089552239), np.float64(0.0016391796508841768)),\n",
       " (68, np.float64(3.7720588235294117), np.float64(0.002107877006211813)),\n",
       " (69, np.float64(3.7753623188405796), np.float64(0.001638208006937132)),\n",
       " (70, np.float64(3.7785714285714285), np.float64(0.0012667046775475992)),\n",
       " (71, np.float64(3.76056338028169), np.float64(0.0022426047709492537)),\n",
       " (72, np.float64(3.763888888888889), np.float64(0.0017525084760790894)),\n",
       " (73, np.float64(3.7739726027397262), np.float64(0.0011365250751412)),\n",
       " (74, np.float64(3.7905405405405403), np.float64(0.0006361085905667348)),\n",
       " (75, np.float64(3.8066666666666666), np.float64(0.00035042445221225517)),\n",
       " (76, np.float64(3.8157894736842106), np.float64(0.00021841519783205381)),\n",
       " (77, np.float64(3.811688311688312), np.float64(0.0002133389727594162)),\n",
       " (78, np.float64(3.8141025641025643), np.float64(0.0001607423772756106)),\n",
       " (79, np.float64(3.8164556962025316), np.float64(0.00012053616176043722)),\n",
       " (80, np.float64(3.83125), np.float64(6.355135417245393e-05)),\n",
       " (81, np.float64(3.845679012345679), np.float64(3.300722928041108e-05)),\n",
       " (82, np.float64(3.841463414634146), np.float64(3.2304003745802037e-05)),\n",
       " (83, np.float64(3.8433734939759034), np.float64(2.374556884407959e-05)),\n",
       " (84, np.float64(3.857142857142857), np.float64(1.2077073301628071e-05)),\n",
       " (85, np.float64(3.847058823529412), np.float64(1.7088673225760976e-05)),\n",
       " (86, np.float64(3.8313953488372094), np.float64(3.608185615666001e-05)),\n",
       " (87, np.float64(3.8333333333333335), np.float64(2.681257612846113e-05)),\n",
       " (88, np.float64(3.8238636363636362), np.float64(3.681562512354262e-05)),\n",
       " (89, np.float64(3.808988764044944), np.float64(7.313870608516293e-05)),\n",
       " (90, np.float64(3.811111111111111), np.float64(5.525606847923858e-05)),\n",
       " (91, np.float64(3.8131868131868134), np.float64(4.1572170968967595e-05)),\n",
       " (92, np.float64(3.8206521739130435), np.float64(2.5405085322214197e-05)),\n",
       " (93, np.float64(3.8225806451612905), np.float64(1.891161316381205e-05)),\n",
       " (94, np.float64(3.824468085106383), np.float64(1.4019284811900051e-05)),\n",
       " (95, np.float64(3.8157894736842106), np.float64(1.930024518470624e-05)),\n",
       " (96, np.float64(3.8177083333333335), np.float64(1.4337154349835086e-05)),\n",
       " (97, np.float64(3.829896907216495), np.float64(7.470440358184904e-06)),\n",
       " (98, np.float64(3.8418367346938775), np.float64(3.843679820388642e-06)),\n",
       " (99, np.float64(3.823232323232323), np.float64(1.3101881021708747e-05)),\n",
       " (100, np.float64(3.815), np.float64(1.773810320525232e-05)),\n",
       " (101, np.float64(3.797029702970297), np.float64(5.156319239792069e-05)),\n",
       " (102, np.float64(3.799019607843137), np.float64(3.956916550250528e-05)),\n",
       " (103, np.float64(3.7815533980582523), np.float64(0.00010532490098882292)),\n",
       " (104, np.float64(3.7836538461538463), np.float64(8.207340957567451e-05)),\n",
       " (105, np.float64(3.7857142857142856), np.float64(6.373666797007717e-05)),\n",
       " (106, np.float64(3.7877358490566038), np.float64(4.932762068137014e-05)),\n",
       " (107, np.float64(3.794392523364486), np.float64(3.158510492524062e-05)),\n",
       " (108, np.float64(3.7824074074074074), np.float64(5.741195652105531e-05)),\n",
       " (109, np.float64(3.7844036697247705), np.float64(4.452063805181686e-05)),\n",
       " (110, np.float64(3.7954545454545454), np.float64(2.5034997999585643e-05)),\n",
       " (111, np.float64(3.8018018018018016), np.float64(1.593383648900579e-05)),\n",
       " (112, np.float64(3.8035714285714284), np.float64(1.2181676067708934e-05)),\n",
       " (113, np.float64(3.8053097345132745), np.float64(9.282385148662153e-06)),\n",
       " (114, np.float64(3.807017543859649), np.float64(7.049800097807919e-06)),\n",
       " (115, np.float64(3.8086956521739133), np.float64(5.336512954125956e-06)),\n",
       " (116, np.float64(3.8017241379310347), np.float64(7.132420343988585e-06)),\n",
       " (117, np.float64(3.8119658119658117), np.float64(3.8777239631651985e-06)),\n",
       " (118, np.float64(3.809322033898305), np.float64(3.7890245418405273e-06)),\n",
       " (119, np.float64(3.80672268907563), np.float64(3.701652394675697e-06)),\n",
       " (120, np.float64(3.8041666666666667), np.float64(3.6156244484077235e-06)),\n",
       " (121, np.float64(3.809917355371901), np.float64(2.234409015059164e-06)),\n",
       " (122, np.float64(3.819672131147541), np.float64(1.1935921381583365e-06)),\n",
       " (123, np.float64(3.821138211382114), np.float64(8.907771906449632e-07)),\n",
       " (124, np.float64(3.814516129032258), np.float64(1.2165528009735344e-06)),\n",
       " (125, np.float64(3.808), np.float64(1.6492029231809994e-06)),\n",
       " (126, np.float64(3.8095238095238093), np.float64(1.2383902023580329e-06)),\n",
       " (127, np.float64(3.7992125984251968), np.float64(2.4447090501870245e-06)),\n",
       " (128, np.float64(3.80859375), np.float64(1.3259626346058774e-06)),\n",
       " (129, np.float64(3.802325581395349), np.float64(1.7799716841358229e-06)),\n",
       " (130, np.float64(3.7884615384615383), np.float64(5.106740278151876e-06)),\n",
       " (131, np.float64(3.786259541984733), np.float64(4.986913728968981e-06)),\n",
       " (132, np.float64(3.7954545454545454), np.float64(2.7799402746913627e-06)),\n",
       " (133, np.float64(3.793233082706767), np.float64(2.715247214619515e-06)),\n",
       " (134, np.float64(3.794776119402985), np.float64(2.075872794199074e-06)),\n",
       " (135, np.float64(3.785185185185185), np.float64(3.869818273690176e-06)),\n",
       " (136, np.float64(3.786764705882353), np.float64(2.9771501112494567e-06)),\n",
       " (137, np.float64(3.7846715328467155), np.float64(2.906855295169462e-06)),\n",
       " (138, np.float64(3.786231884057971), np.float64(2.229978257172786e-06)),\n",
       " (139, np.float64(3.7805755395683454), np.float64(2.9230205434969024e-06)),\n",
       " (140, np.float64(3.7857142857142856), np.float64(1.861736987479408e-06)),\n",
       " (141, np.float64(3.780141843971631), np.float64(2.441850783063681e-06)),\n",
       " (142, np.float64(3.7816901408450705), np.float64(1.8743496554091788e-06)),\n",
       " (143, np.float64(3.7832167832167833), np.float64(1.4348129269825041e-06)),\n",
       " (144, np.float64(3.7847222222222223), np.float64(1.095348909552448e-06)),\n",
       " (145, np.float64(3.786206896551724), np.float64(8.33914593413763e-07)),\n",
       " (146, np.float64(3.7945205479452055), np.float64(4.5654100105346796e-07)),\n",
       " (147, np.float64(3.802721088435374), np.float64(2.4781068087348057e-07)),\n",
       " (148, np.float64(3.804054054054054), np.float64(1.8647631467675183e-07)),\n",
       " (149, np.float64(3.8053691275167787), np.float64(1.3994497318116365e-07)),\n",
       " (150, np.float64(3.8066666666666666), np.float64(1.0474187906210276e-07)),\n",
       " (151, np.float64(3.814569536423841), np.float64(5.563873816774276e-08)),\n",
       " (152, np.float64(3.8223684210526314), np.float64(2.9310557354650833e-08)),\n",
       " (153, np.float64(3.823529411764706), np.float64(2.169106984430368e-08)),\n",
       " (154, np.float64(3.8279220779220777), np.float64(1.296533237512879e-08)),\n",
       " (155, np.float64(3.835483870967742), np.float64(6.697213587518621e-09)),\n",
       " (156, np.float64(3.8365384615384617), np.float64(4.90242789582791e-09)),\n",
       " (157, np.float64(3.837579617834395), np.float64(3.579198670373318e-09)),\n",
       " (158, np.float64(3.8322784810126582), np.float64(5.065038279328382e-09)),\n",
       " (159, np.float64(3.839622641509434), np.float64(2.593122661980238e-09)),\n",
       " (160, np.float64(3.840625), np.float64(1.888254008877338e-09)),\n",
       " (161, np.float64(3.829192546583851), np.float64(6.898626484283051e-09)),\n",
       " (162, np.float64(3.830246913580247), np.float64(5.088654193995244e-09)),\n",
       " (163, np.float64(3.831288343558282), np.float64(3.744165106538347e-09)),\n",
       " (164, np.float64(3.826219512195122), np.float64(5.23409616911476e-09)),\n",
       " (165, np.float64(3.8333333333333335), np.float64(2.715045381204715e-09)),\n",
       " (166, np.float64(3.8343373493975905), np.float64(1.992485631104046e-09)),\n",
       " (167, np.float64(3.841317365269461), np.float64(1.021658248002295e-09)),\n",
       " (168, np.float64(3.8452380952380953), np.float64(5.986014433616568e-10)),\n",
       " (169, np.float64(3.8520710059171597), np.float64(3.026046512497991e-10)),\n",
       " (170, np.float64(3.85), np.float64(2.9667891226340393e-10)),\n",
       " (171, np.float64(3.8508771929824563), np.float64(2.1473424779915278e-10)),\n",
       " (172, np.float64(3.8459302325581395), np.float64(3.0874119233632277e-10)),\n",
       " (173, np.float64(3.8497109826589595), np.float64(1.7917893544489147e-10)),\n",
       " (174, np.float64(3.8505747126436782), np.float64(1.2939702905988413e-10)),\n",
       " (175, np.float64(3.854285714285714), np.float64(7.437375301814674e-11)),\n",
       " (176, np.float64(3.8607954545454546), np.float64(3.68536489501502e-11)),\n",
       " (177, np.float64(3.867231638418079), np.float64(1.8128994549484078e-11)),\n",
       " (178, np.float64(3.8707865168539324), np.float64(1.0226884113071301e-11)),\n",
       " (179, np.float64(3.863128491620112), np.float64(2.476407211840968e-11)),\n",
       " (180, np.float64(3.863888888888889), np.float64(1.7738569534234892e-11)),\n",
       " (181, np.float64(3.8701657458563536), np.float64(8.709233016873075e-12)),\n",
       " (182, np.float64(3.870879120879121), np.float64(6.201886620364462e-12)),\n",
       " (183, np.float64(3.866120218579235), np.float64(9.186029818083115e-12)),\n",
       " (184, np.float64(3.8668478260869565), np.float64(6.5513651601619266e-12)),\n",
       " (185, np.float64(3.8702702702702703), np.float64(3.688482306426002e-12)),\n",
       " (186, np.float64(3.8763440860215055), np.float64(1.787257905280176e-12)),\n",
       " (187, np.float64(3.8823529411764706), np.float64(8.600037830948384e-13)),\n",
       " (188, np.float64(3.882978723404255), np.float64(6.056150219694947e-13)),\n",
       " (189, np.float64(3.8835978835978837), np.float64(4.2551292144889585e-13)),\n",
       " (190, np.float64(3.886842105263158), np.float64(2.3370424038676717e-13)),\n",
       " (191, np.float64(3.887434554973822), np.float64(1.6326985261947053e-13)),\n",
       " (192, np.float64(3.8880208333333335), np.float64(1.1380629973295943e-13)),\n",
       " (193, np.float64(3.88860103626943), np.float64(7.91493424125946e-14)),\n",
       " (194, np.float64(3.8917525773195876), np.float64(4.278258438283099e-14)),\n",
       " (195, np.float64(3.8923076923076922), np.float64(2.958555465053197e-14)),\n",
       " (196, np.float64(3.8877551020408165), np.float64(4.623476152843946e-14)),\n",
       " (197, np.float64(3.8908629441624365), np.float64(2.493280074064741e-14)),\n",
       " (198, np.float64(3.893939393939394), np.float64(1.3370684043107038e-14)),\n",
       " (199, np.float64(3.899497487437186), np.float64(6.160613753635314e-15)),\n",
       " (200, np.float64(3.895), np.float64(9.749074156510373e-15)),\n",
       " (201, np.float64(3.8955223880597014), np.float64(6.7127681104016146e-15)),\n",
       " (202, np.float64(3.896039603960396), np.float64(4.611952007016571e-15)),\n",
       " (203, np.float64(3.896551724137931), np.float64(3.1616414709692205e-15)),\n",
       " (204, np.float64(3.9019607843137254), np.float64(1.443848995257856e-15)),\n",
       " (205, np.float64(3.897560975609756), np.float64(2.309845735394206e-15)),\n",
       " (206, np.float64(3.9029126213592233), np.float64(1.0555998801123747e-15)),\n",
       " (207, np.float64(3.9082125603864735), np.float64(4.793088683620974e-16)),\n",
       " (208, np.float64(3.9086538461538463), np.float64(3.260991041831808e-16)),\n",
       " (209, np.float64(3.9138755980861246), np.float64(1.466694033719233e-16)),\n",
       " (210, np.float64(3.914285714285714), np.float64(9.927030087378508e-17)),\n",
       " (211, np.float64(3.914691943127962), np.float64(6.704625749290763e-17)),\n",
       " (212, np.float64(3.9150943396226414), np.float64(4.518611521397103e-17)),\n",
       " (213, np.float64(3.915492957746479), np.float64(3.038859398683116e-17)),\n",
       " (214, np.float64(3.9205607476635516), np.float64(1.3418325209316871e-17))]"
      ]
     },
     "execution_count": 59,
     "metadata": {},
     "output_type": "execute_result"
    }
   ],
   "source": [
    "def calcula_teste(i):\n",
    "    media = temp[0:i].mean()\n",
    "    stat, p = ztest(temp[0:i], value = 3.4320503405352603) \n",
    "    return (i, media, p)\n",
    "\n",
    "medias = [calcula_teste(i) for i in range(2, len(temp))]\n",
    "medias"
   ]
  },
  {
   "cell_type": "code",
   "execution_count": 60,
   "id": "6df7603b-f1d5-4a86-97e6-390e5f896bd9",
   "metadata": {},
   "outputs": [
    {
     "data": {
      "text/plain": [
       "[<matplotlib.lines.Line2D at 0x1fc35a54530>]"
      ]
     },
     "execution_count": 60,
     "metadata": {},
     "output_type": "execute_result"
    },
    {
     "data": {
      "image/png": "[encoded data removed]",
      "text/plain": [
       "<Figure size 640x480 with 1 Axes>"
      ]
     },
     "metadata": {},
     "output_type": "display_data"
    }
   ],
   "source": [
    "medias = np.array([calcula_teste(i) for i in range(2, len(temp))])\n",
    "medias\n",
    "\n",
    "plt.plot(medias[:,1])"
   ]
  },
  {
   "cell_type": "code",
   "execution_count": 61,
   "id": "e8af610a-7469-42fa-a4a5-fa0ab69b216b",
   "metadata": {},
   "outputs": [
    {
     "data": {
      "text/plain": [
       "[<matplotlib.lines.Line2D at 0x1fc35aa52b0>]"
      ]
     },
     "execution_count": 61,
     "metadata": {},
     "output_type": "execute_result"
    },
    {
     "data": {
      "image/png": "[encoded data removed]",
      "text/plain": [
       "<Figure size 640x480 with 1 Axes>"
      ]
     },
     "metadata": {},
     "output_type": "display_data"
    }
   ],
   "source": [
    "valores = np.array([calcula_teste(i) for i in range(2, len(temp))])\n",
    "medias\n",
    "\n",
    "plt.plot(valores[:,0],valores[:,1])"
   ]
  },
  {
   "cell_type": "code",
   "execution_count": 62,
   "id": "80c1ca01-023b-459b-990f-76fd6bb23389",
   "metadata": {},
   "outputs": [
    {
     "data": {
      "text/plain": [
       "[<matplotlib.lines.Line2D at 0x1fc36c41b50>]"
      ]
     },
     "execution_count": 62,
     "metadata": {},
     "output_type": "execute_result"
    },
    {
     "data": {
      "image/png": "[encoded data removed]",
      "text/plain": [
       "<Figure size 640x480 with 1 Axes>"
      ]
     },
     "metadata": {},
     "output_type": "display_data"
    }
   ],
   "source": [
    "plt.plot(valores[:,0],valores[:,1])\n",
    "plt.plot(valores[:,0],valores[:,2])"
   ]
  },
  {
   "cell_type": "code",
   "execution_count": 63,
   "id": "a1fb1fa3-a0f9-4b9f-b1af-0b26cc032883",
   "metadata": {},
   "outputs": [
    {
     "data": {
      "text/plain": [
       "<matplotlib.collections.LineCollection at 0x1fc2f787680>"
      ]
     },
     "execution_count": 63,
     "metadata": {},
     "output_type": "execute_result"
    },
    {
     "data": {
      "image/png": "[encoded data removed]",
      "text/plain": [
       "<Figure size 640x480 with 1 Axes>"
      ]
     },
     "metadata": {},
     "output_type": "display_data"
    }
   ],
   "source": [
    "plt.plot(valores[:,0],valores[:,1])\n",
    "plt.plot(valores[:,0],valores[:,2])\n",
    "plt.hlines(y = 0.05, xmin = 2, xmax = len(temp), colors = 'r')"
   ]
  },
  {
   "cell_type": "markdown",
   "id": "64709b6b-78f1-4757-84df-ed0ee96c43d4",
   "metadata": {},
   "source": [
    "Comparaçao de dois conjuntos de amostras"
   ]
  },
  {
   "cell_type": "code",
   "execution_count": 64,
   "id": "8251a939-8be1-4580-b4f8-c3ca97330705",
   "metadata": {},
   "outputs": [
    {
     "name": "stdout",
     "output_type": "stream",
     "text": [
      "(np.float64(5.894327101501841), np.float64(3.762112778881965e-09))\n"
     ]
    },
    {
     "data": {
      "text/plain": [
       "(np.float64(0.2799245129192442), np.float64(0.5588219849631111))"
      ]
     },
     "execution_count": 64,
     "metadata": {},
     "output_type": "execute_result"
    }
   ],
   "source": [
    "print(ztest(notas1.rating,  notas.rating))\n",
    "zconfint(notas1.rating,  notas.rating)"
   ]
  },
  {
   "cell_type": "code",
   "execution_count": 65,
   "id": "7d149ed7-8355-449c-95b7-733c94a6fc07",
   "metadata": {},
   "outputs": [
    {
     "name": "stdout",
     "output_type": "stream",
     "text": [
      "(np.float64(-5.894327101501841), np.float64(3.762112778881965e-09))\n"
     ]
    },
    {
     "data": {
      "text/plain": [
       "(np.float64(-0.5588219849631111), np.float64(-0.2799245129192442))"
      ]
     },
     "execution_count": 65,
     "metadata": {},
     "output_type": "execute_result"
    }
   ],
   "source": [
    "print(ztest(notas.rating,  notas1.rating))\n",
    "zconfint(notas.rating,  notas1.rating)"
   ]
  },
  {
   "cell_type": "code",
   "execution_count": 66,
   "id": "7be8e726-c6ad-4176-8de5-99bb1918a7c7",
   "metadata": {},
   "outputs": [
    {
     "data": {
      "text/plain": [
       "TtestResult(statistic=np.float64(-5.894327101501841), pvalue=np.float64(3.774003138720876e-09), df=np.float64(101049.0))"
      ]
     },
     "execution_count": 66,
     "metadata": {},
     "output_type": "execute_result"
    }
   ],
   "source": [
    "from scipy.stats import ttest_ind\n",
    "\n",
    "ttest_ind(notas.rating, notas1.rating)"
   ]
  },
  {
   "cell_type": "code",
   "execution_count": 67,
   "id": "59919331-90fb-4b6a-bfe5-05e20301d5f5",
   "metadata": {},
   "outputs": [],
   "source": [
    "descr_todas_as_notas = DescrStatsW(notas.rating)\n",
    "descr_toystory = DescrStatsW(notas1.rating)\n",
    "comparacao = descr_todas_as_notas.get_compare(descr_toystory)"
   ]
  },
  {
   "cell_type": "code",
   "execution_count": 68,
   "id": "fdd2affd-f2a4-4af2-82d1-4648b0594490",
   "metadata": {},
   "outputs": [
    {
     "data": {
      "text/html": [
       "<table class=\"simpletable\">\n",
       "<caption>Test for equality of means</caption>\n",
       "<tr>\n",
       "      <td></td>         <th>coef</th>     <th>std err</th>      <th>t</th>      <th>P>|t|</th>  <th>[0.025</th>    <th>0.975]</th>  \n",
       "</tr>\n",
       "<tr>\n",
       "  <th>subset #1</th> <td>   -0.4194</td> <td>    0.071</td> <td>   -5.894</td> <td> 0.000</td> <td>   -0.559</td> <td>   -0.280</td>\n",
       "</tr>\n",
       "</table>"
      ],
      "text/latex": [
       "\\begin{center}\n",
       "\\begin{tabular}{lcccccc}\n",
       "\\toprule\n",
       "                    & \\textbf{coef} & \\textbf{std err} & \\textbf{t} & \\textbf{P$> |$t$|$} & \\textbf{[0.025} & \\textbf{0.975]}  \\\\\n",
       "\\midrule\n",
       "\\textbf{subset \\#1} &      -0.4194  &        0.071     &    -5.894  &         0.000        &       -0.559    &       -0.280     \\\\\n",
       "\\bottomrule\n",
       "\\end{tabular}\n",
       "%\\caption{Test for equality of means}\n",
       "\\end{center}"
      ],
      "text/plain": [
       "<class 'statsmodels.iolib.table.SimpleTable'>"
      ]
     },
     "execution_count": 68,
     "metadata": {},
     "output_type": "execute_result"
    }
   ],
   "source": [
    "descr_todas_as_notas = DescrStatsW(notas.rating)\n",
    "descr_toystory = DescrStatsW(notas1.rating)\n",
    "comparacao = descr_todas_as_notas.get_compare(descr_toystory)\n",
    "\n",
    "comparacao.summary()"
   ]
  },
  {
   "cell_type": "code",
   "execution_count": 69,
   "id": "518c44df-0f68-4ce4-86ff-bc94e73218e4",
   "metadata": {},
   "outputs": [
    {
     "data": {
      "text/html": [
       "<table class=\"simpletable\">\n",
       "<caption>Test for equality of means</caption>\n",
       "<tr>\n",
       "      <td></td>         <th>coef</th>     <th>std err</th>      <th>t</th>      <th>P>|t|</th>  <th>[0.025</th>    <th>0.975]</th>  \n",
       "</tr>\n",
       "<tr>\n",
       "  <th>subset #1</th> <td>   -0.4194</td> <td>    0.071</td> <td>   -5.894</td> <td> 0.000</td> <td>   -0.559</td> <td>   -0.280</td>\n",
       "</tr>\n",
       "</table>"
      ],
      "text/latex": [
       "\\begin{center}\n",
       "\\begin{tabular}{lcccccc}\n",
       "\\toprule\n",
       "                    & \\textbf{coef} & \\textbf{std err} & \\textbf{t} & \\textbf{P$> |$t$|$} & \\textbf{[0.025} & \\textbf{0.975]}  \\\\\n",
       "\\midrule\n",
       "\\textbf{subset \\#1} &      -0.4194  &        0.071     &    -5.894  &         0.000        &       -0.559    &       -0.280     \\\\\n",
       "\\bottomrule\n",
       "\\end{tabular}\n",
       "%\\caption{Test for equality of means}\n",
       "\\end{center}"
      ],
      "text/plain": [
       "<class 'statsmodels.iolib.table.SimpleTable'>"
      ]
     },
     "execution_count": 69,
     "metadata": {},
     "output_type": "execute_result"
    }
   ],
   "source": [
    "descr_todas_as_notas = DescrStatsW(notas.rating)\n",
    "descr_toystory = DescrStatsW(notas1.rating)\n",
    "comparacao = descr_todas_as_notas.get_compare(descr_toystory)\n",
    "\n",
    "comparacao.summary(use_t=True)"
   ]
  },
  {
   "cell_type": "code",
   "execution_count": 70,
   "id": "81505d81-984c-440a-8adc-d6a8ffea7133",
   "metadata": {},
   "outputs": [
    {
     "name": "stderr",
     "output_type": "stream",
     "text": [
      "C:\\Users\\joaop\\AppData\\Local\\Temp\\ipykernel_20156\\2655931426.py:3: MatplotlibDeprecationWarning: The 'labels' parameter of boxplot() has been renamed 'tick_labels' since Matplotlib 3.9; support for the old name will be dropped in 3.11.\n",
      "  plt.boxplot([notas.rating, notas1.rating], labels=[\"Todas as notas\", \"Toy Story\"])\n"
     ]
    },
    {
     "data": {
      "text/plain": [
       "Text(0.5, 1.0, 'Distribuição das notas de acordo com filmes')"
      ]
     },
     "execution_count": 70,
     "metadata": {},
     "output_type": "execute_result"
    },
    {
     "data": {
      "image/png": "[encoded data removed]",
      "text/plain": [
       "<Figure size 640x480 with 1 Axes>"
      ]
     },
     "metadata": {},
     "output_type": "display_data"
    }
   ],
   "source": [
    "import matplotlib.pyplot as plt\n",
    "\n",
    "plt.boxplot([notas.rating, notas1.rating], labels=[\"Todas as notas\", \"Toy Story\"])\n",
    "plt.title(\"Distribuição das notas de acordo com filmes\")"
   ]
  },
  {
   "cell_type": "code",
   "execution_count": 71,
   "id": "693abf36-abb6-4918-9107-e00fb1166c23",
   "metadata": {},
   "outputs": [
    {
     "name": "stderr",
     "output_type": "stream",
     "text": [
      "C:\\Users\\joaop\\AppData\\Local\\Temp\\ipykernel_20156\\3973231833.py:3: MatplotlibDeprecationWarning: The 'labels' parameter of boxplot() has been renamed 'tick_labels' since Matplotlib 3.9; support for the old name will be dropped in 3.11.\n",
      "  plt.boxplot([notas.rating, notas1[3:12].rating], labels=[\"Todas as notas\", \"Toy Story (do 3 ao 12)\"])\n"
     ]
    },
    {
     "data": {
      "text/plain": [
       "Text(0.5, 1.0, 'Distribuição das notas de acordo com filmes')"
      ]
     },
     "execution_count": 71,
     "metadata": {},
     "output_type": "execute_result"
    },
    {
     "data": {
      "image/png": "[encoded data removed]",
      "text/plain": [
       "<Figure size 640x480 with 1 Axes>"
      ]
     },
     "metadata": {},
     "output_type": "display_data"
    }
   ],
   "source": [
    "import matplotlib.pyplot as plt\n",
    "\n",
    "plt.boxplot([notas.rating, notas1[3:12].rating], labels=[\"Todas as notas\", \"Toy Story (do 3 ao 12)\"])\n",
    "plt.title(\"Distribuição das notas de acordo com filmes\")"
   ]
  },
  {
   "cell_type": "code",
   "execution_count": 74,
   "id": "2d672339-e72e-496c-a7b9-3c31afca4aa1",
   "metadata": {},
   "outputs": [
    {
     "data": {
      "text/html": [
       "<table class=\"simpletable\">\n",
       "<caption>Test for equality of means</caption>\n",
       "<tr>\n",
       "      <td></td>         <th>coef</th>     <th>std err</th>      <th>t</th>      <th>P>|t|</th>  <th>[0.025</th>    <th>0.975]</th>  \n",
       "</tr>\n",
       "<tr>\n",
       "  <th>subset #1</th> <td>   -0.0540</td> <td>    0.348</td> <td>   -0.155</td> <td> 0.877</td> <td>   -0.735</td> <td>    0.627</td>\n",
       "</tr>\n",
       "</table>"
      ],
      "text/latex": [
       "\\begin{center}\n",
       "\\begin{tabular}{lcccccc}\n",
       "\\toprule\n",
       "                    & \\textbf{coef} & \\textbf{std err} & \\textbf{t} & \\textbf{P$> |$t$|$} & \\textbf{[0.025} & \\textbf{0.975]}  \\\\\n",
       "\\midrule\n",
       "\\textbf{subset \\#1} &      -0.0540  &        0.348     &    -0.155  &         0.877        &       -0.735    &        0.627     \\\\\n",
       "\\bottomrule\n",
       "\\end{tabular}\n",
       "%\\caption{Test for equality of means}\n",
       "\\end{center}"
      ],
      "text/plain": [
       "<class 'statsmodels.iolib.table.SimpleTable'>"
      ]
     },
     "execution_count": 74,
     "metadata": {},
     "output_type": "execute_result"
    }
   ],
   "source": [
    "descr_todas_as_notas = DescrStatsW(notas.rating)\n",
    "descr_toystory = DescrStatsW(notas1[3:12].rating)\n",
    "comparacao = descr_todas_as_notas.get_compare(descr_toystory)\n",
    "\n",
    "comparacao.summary(use_t=True)"
   ]
  },
  {
   "cell_type": "markdown",
   "id": "ff47a2dc-fd10-41f0-85a1-c6f518cc0695",
   "metadata": {},
   "source": [
    "Comparar a média de dois filmes"
   ]
  },
  {
   "cell_type": "code",
   "execution_count": 73,
   "id": "464b7f0f-9c10-4352-872d-7730bd6bd0e3",
   "metadata": {},
   "outputs": [
    {
     "name": "stderr",
     "output_type": "stream",
     "text": [
      "C:\\Users\\joaop\\AppData\\Local\\Temp\\ipykernel_20156\\4060554580.py:5: MatplotlibDeprecationWarning: The 'labels' parameter of boxplot() has been renamed 'tick_labels' since Matplotlib 3.9; support for the old name will be dropped in 3.11.\n",
      "  plt.boxplot([notas1.rating, notas593.rating, notas72226.rating], labels=[\"Toy Story\", \"Silence of the Lambs,\", \"Fantastic Mr. Fox\"])\n"
     ]
    },
    {
     "data": {
      "text/plain": [
       "Text(0.5, 1.0, 'Distribuição das notas de acordo com filmes')"
      ]
     },
     "execution_count": 73,
     "metadata": {},
     "output_type": "execute_result"
    },
    {
     "data": {
      "image/png": "[encoded data removed]",
      "text/plain": [
       "<Figure size 640x480 with 1 Axes>"
      ]
     },
     "metadata": {},
     "output_type": "display_data"
    }
   ],
   "source": [
    "notas1 =  notas.query(\"movieId == 1\")\n",
    "notas593 =  notas.query(\"movieId == 593\")\n",
    "notas72226 =  notas.query(\"movieId == 72226\")\n",
    "\n",
    "plt.boxplot([notas1.rating, notas593.rating, notas72226.rating], labels=[\"Toy Story\", \"Silence of the Lambs,\", \"Fantastic Mr. Fox\"])\n",
    "plt.title(\"Distribuição das notas de acordo com filmes\")"
   ]
  },
  {
   "cell_type": "code",
   "execution_count": 75,
   "id": "bc96fb47-9058-408b-a8b0-9bd569dab64b",
   "metadata": {},
   "outputs": [
    {
     "data": {
      "text/html": [
       "<div>\n",
       "<style scoped>\n",
       "    .dataframe tbody tr th:only-of-type {\n",
       "        vertical-align: middle;\n",
       "    }\n",
       "\n",
       "    .dataframe tbody tr th {\n",
       "        vertical-align: top;\n",
       "    }\n",
       "\n",
       "    .dataframe thead th {\n",
       "        text-align: right;\n",
       "    }\n",
       "</style>\n",
       "<table border=\"1\" class=\"dataframe\">\n",
       "  <thead>\n",
       "    <tr style=\"text-align: right;\">\n",
       "      <th></th>\n",
       "      <th>userId</th>\n",
       "      <th>movieId</th>\n",
       "      <th>rating</th>\n",
       "      <th>timestamp</th>\n",
       "    </tr>\n",
       "  </thead>\n",
       "  <tbody>\n",
       "    <tr>\n",
       "      <th>count</th>\n",
       "      <td>18.000000</td>\n",
       "      <td>18.0</td>\n",
       "      <td>18.000000</td>\n",
       "      <td>1.800000e+01</td>\n",
       "    </tr>\n",
       "    <tr>\n",
       "      <th>mean</th>\n",
       "      <td>329.722222</td>\n",
       "      <td>72226.0</td>\n",
       "      <td>4.083333</td>\n",
       "      <td>1.395218e+09</td>\n",
       "    </tr>\n",
       "    <tr>\n",
       "      <th>std</th>\n",
       "      <td>174.748157</td>\n",
       "      <td>0.0</td>\n",
       "      <td>0.895249</td>\n",
       "      <td>9.459862e+07</td>\n",
       "    </tr>\n",
       "    <tr>\n",
       "      <th>min</th>\n",
       "      <td>73.000000</td>\n",
       "      <td>72226.0</td>\n",
       "      <td>1.500000</td>\n",
       "      <td>1.262899e+09</td>\n",
       "    </tr>\n",
       "    <tr>\n",
       "      <th>25%</th>\n",
       "      <td>167.000000</td>\n",
       "      <td>72226.0</td>\n",
       "      <td>4.000000</td>\n",
       "      <td>1.279706e+09</td>\n",
       "    </tr>\n",
       "    <tr>\n",
       "      <th>50%</th>\n",
       "      <td>326.000000</td>\n",
       "      <td>72226.0</td>\n",
       "      <td>4.250000</td>\n",
       "      <td>1.441777e+09</td>\n",
       "    </tr>\n",
       "    <tr>\n",
       "      <th>75%</th>\n",
       "      <td>466.250000</td>\n",
       "      <td>72226.0</td>\n",
       "      <td>4.500000</td>\n",
       "      <td>1.471770e+09</td>\n",
       "    </tr>\n",
       "    <tr>\n",
       "      <th>max</th>\n",
       "      <td>610.000000</td>\n",
       "      <td>72226.0</td>\n",
       "      <td>5.000000</td>\n",
       "      <td>1.498522e+09</td>\n",
       "    </tr>\n",
       "  </tbody>\n",
       "</table>\n",
       "</div>"
      ],
      "text/plain": [
       "           userId  movieId     rating     timestamp\n",
       "count   18.000000     18.0  18.000000  1.800000e+01\n",
       "mean   329.722222  72226.0   4.083333  1.395218e+09\n",
       "std    174.748157      0.0   0.895249  9.459862e+07\n",
       "min     73.000000  72226.0   1.500000  1.262899e+09\n",
       "25%    167.000000  72226.0   4.000000  1.279706e+09\n",
       "50%    326.000000  72226.0   4.250000  1.441777e+09\n",
       "75%    466.250000  72226.0   4.500000  1.471770e+09\n",
       "max    610.000000  72226.0   5.000000  1.498522e+09"
      ]
     },
     "execution_count": 75,
     "metadata": {},
     "output_type": "execute_result"
    }
   ],
   "source": [
    "notas72226.describe()"
   ]
  },
  {
   "cell_type": "code",
   "execution_count": 76,
   "id": "2e0c39ba-74d5-49b7-a3b7-4b9f56ffd090",
   "metadata": {},
   "outputs": [
    {
     "data": {
      "text/plain": [
       "<Axes: xlabel='movieId', ylabel='rating'>"
      ]
     },
     "execution_count": 76,
     "metadata": {},
     "output_type": "execute_result"
    },
    {
     "data": {
      "image/png": "[encoded data removed]",
      "text/plain": [
       "<Figure size 640x480 with 1 Axes>"
      ]
     },
     "metadata": {},
     "output_type": "display_data"
    }
   ],
   "source": [
    "sns.boxplot(x = \"movieId\", y = \"rating\", data = notas.query(\"movieId in (1, 593, 72226)\"))"
   ]
  },
  {
   "cell_type": "code",
   "execution_count": 78,
   "id": "8039023f-f79a-4564-9143-088e0be015b4",
   "metadata": {},
   "outputs": [
    {
     "data": {
      "text/html": [
       "<table class=\"simpletable\">\n",
       "<caption>Test for equality of means</caption>\n",
       "<tr>\n",
       "      <td></td>         <th>coef</th>     <th>std err</th>      <th>t</th>      <th>P>|t|</th>  <th>[0.025</th>    <th>0.975]</th>  \n",
       "</tr>\n",
       "<tr>\n",
       "  <th>subset #1</th> <td>   -0.2404</td> <td>    0.077</td> <td>   -3.132</td> <td> 0.002</td> <td>   -0.391</td> <td>   -0.090</td>\n",
       "</tr>\n",
       "</table>"
      ],
      "text/latex": [
       "\\begin{center}\n",
       "\\begin{tabular}{lcccccc}\n",
       "\\toprule\n",
       "                    & \\textbf{coef} & \\textbf{std err} & \\textbf{t} & \\textbf{P$> |$t$|$} & \\textbf{[0.025} & \\textbf{0.975]}  \\\\\n",
       "\\midrule\n",
       "\\textbf{subset \\#1} &      -0.2404  &        0.077     &    -3.132  &         0.002        &       -0.391    &       -0.090     \\\\\n",
       "\\bottomrule\n",
       "\\end{tabular}\n",
       "%\\caption{Test for equality of means}\n",
       "\\end{center}"
      ],
      "text/plain": [
       "<class 'statsmodels.iolib.table.SimpleTable'>"
      ]
     },
     "execution_count": 78,
     "metadata": {},
     "output_type": "execute_result"
    }
   ],
   "source": [
    "descr_1 = DescrStatsW(notas1.rating)\n",
    "descr_593 = DescrStatsW(notas593.rating)\n",
    "comparacao = descr_1.get_compare(descr_593)\n",
    "\n",
    "comparacao.summary()"
   ]
  },
  {
   "cell_type": "code",
   "execution_count": 79,
   "id": "2b9303e7-a97f-4366-bf3d-86a53db61353",
   "metadata": {},
   "outputs": [
    {
     "data": {
      "text/html": [
       "<table class=\"simpletable\">\n",
       "<caption>Test for equality of means</caption>\n",
       "<tr>\n",
       "      <td></td>         <th>coef</th>     <th>std err</th>      <th>t</th>      <th>P>|t|</th>  <th>[0.025</th>    <th>0.975]</th>  \n",
       "</tr>\n",
       "<tr>\n",
       "  <th>subset #1</th> <td>   -0.0780</td> <td>    0.208</td> <td>   -0.374</td> <td> 0.708</td> <td>   -0.488</td> <td>    0.332</td>\n",
       "</tr>\n",
       "</table>"
      ],
      "text/latex": [
       "\\begin{center}\n",
       "\\begin{tabular}{lcccccc}\n",
       "\\toprule\n",
       "                    & \\textbf{coef} & \\textbf{std err} & \\textbf{t} & \\textbf{P$> |$t$|$} & \\textbf{[0.025} & \\textbf{0.975]}  \\\\\n",
       "\\midrule\n",
       "\\textbf{subset \\#1} &      -0.0780  &        0.208     &    -0.374  &         0.708        &       -0.488    &        0.332     \\\\\n",
       "\\bottomrule\n",
       "\\end{tabular}\n",
       "%\\caption{Test for equality of means}\n",
       "\\end{center}"
      ],
      "text/plain": [
       "<class 'statsmodels.iolib.table.SimpleTable'>"
      ]
     },
     "execution_count": 79,
     "metadata": {},
     "output_type": "execute_result"
    }
   ],
   "source": [
    "descr_72226 = DescrStatsW(notas72226.rating)\n",
    "descr_593 = DescrStatsW(notas593.rating)\n",
    "comparacao = descr_72226.get_compare(descr_593)\n",
    "\n",
    "comparacao.summary()"
   ]
  },
  {
   "cell_type": "code",
   "execution_count": 80,
   "id": "b40439b4-c6b1-43e9-8c9a-f401d614a34b",
   "metadata": {},
   "outputs": [
    {
     "data": {
      "text/html": [
       "<table class=\"simpletable\">\n",
       "<caption>Test for equality of means</caption>\n",
       "<tr>\n",
       "      <td></td>         <th>coef</th>     <th>std err</th>      <th>t</th>      <th>P>|t|</th>  <th>[0.025</th>    <th>0.975]</th>  \n",
       "</tr>\n",
       "<tr>\n",
       "  <th>subset #1</th> <td>   -0.1624</td> <td>    0.206</td> <td>   -0.788</td> <td> 0.431</td> <td>   -0.568</td> <td>    0.243</td>\n",
       "</tr>\n",
       "</table>"
      ],
      "text/latex": [
       "\\begin{center}\n",
       "\\begin{tabular}{lcccccc}\n",
       "\\toprule\n",
       "                    & \\textbf{coef} & \\textbf{std err} & \\textbf{t} & \\textbf{P$> |$t$|$} & \\textbf{[0.025} & \\textbf{0.975]}  \\\\\n",
       "\\midrule\n",
       "\\textbf{subset \\#1} &      -0.1624  &        0.206     &    -0.788  &         0.431        &       -0.568    &        0.243     \\\\\n",
       "\\bottomrule\n",
       "\\end{tabular}\n",
       "%\\caption{Test for equality of means}\n",
       "\\end{center}"
      ],
      "text/plain": [
       "<class 'statsmodels.iolib.table.SimpleTable'>"
      ]
     },
     "execution_count": 80,
     "metadata": {},
     "output_type": "execute_result"
    }
   ],
   "source": [
    "comparacao = descr_1.get_compare(descr_72226)\n",
    "\n",
    "comparacao.summary()"
   ]
  },
  {
   "cell_type": "code",
   "execution_count": 81,
   "id": "048634e4-b5d4-4d1d-9c92-d473c8360877",
   "metadata": {},
   "outputs": [
    {
     "data": {
      "text/html": [
       "<div>\n",
       "<style scoped>\n",
       "    .dataframe tbody tr th:only-of-type {\n",
       "        vertical-align: middle;\n",
       "    }\n",
       "\n",
       "    .dataframe tbody tr th {\n",
       "        vertical-align: top;\n",
       "    }\n",
       "\n",
       "    .dataframe thead th {\n",
       "        text-align: right;\n",
       "    }\n",
       "</style>\n",
       "<table border=\"1\" class=\"dataframe\">\n",
       "  <thead>\n",
       "    <tr style=\"text-align: right;\">\n",
       "      <th></th>\n",
       "      <th>userId</th>\n",
       "      <th>rating</th>\n",
       "      <th>timestamp</th>\n",
       "    </tr>\n",
       "    <tr>\n",
       "      <th>movieId</th>\n",
       "      <th></th>\n",
       "      <th></th>\n",
       "      <th></th>\n",
       "    </tr>\n",
       "  </thead>\n",
       "  <tbody>\n",
       "    <tr>\n",
       "      <th>1</th>\n",
       "      <td>215</td>\n",
       "      <td>215</td>\n",
       "      <td>215</td>\n",
       "    </tr>\n",
       "    <tr>\n",
       "      <th>593</th>\n",
       "      <td>279</td>\n",
       "      <td>279</td>\n",
       "      <td>279</td>\n",
       "    </tr>\n",
       "    <tr>\n",
       "      <th>72226</th>\n",
       "      <td>18</td>\n",
       "      <td>18</td>\n",
       "      <td>18</td>\n",
       "    </tr>\n",
       "  </tbody>\n",
       "</table>\n",
       "</div>"
      ],
      "text/plain": [
       "         userId  rating  timestamp\n",
       "movieId                           \n",
       "1           215     215        215\n",
       "593         279     279        279\n",
       "72226        18      18         18"
      ]
     },
     "execution_count": 81,
     "metadata": {},
     "output_type": "execute_result"
    }
   ],
   "source": [
    "notas.query(\"movieId in (1, 593, 72226)\").groupby(\"movieId\").count()"
   ]
  },
  {
   "cell_type": "code",
   "execution_count": 82,
   "id": "2232fa8b-579f-4bc6-a107-044ecb304bec",
   "metadata": {},
   "outputs": [
    {
     "data": {
      "text/plain": [
       "np.float64(0.00011053430732728716)"
      ]
     },
     "execution_count": 82,
     "metadata": {},
     "output_type": "execute_result"
    }
   ],
   "source": [
    "from scipy.stats import normaltest\n",
    "\n",
    "stat, p = normaltest(notas1.rating)\n",
    "p"
   ]
  },
  {
   "cell_type": "code",
   "execution_count": 83,
   "id": "850830af-c653-406f-92fa-92f85c5d5ec3",
   "metadata": {},
   "outputs": [
    {
     "data": {
      "text/plain": [
       "np.float64(0.00011053430732728716)"
      ]
     },
     "execution_count": 83,
     "metadata": {},
     "output_type": "execute_result"
    }
   ],
   "source": [
    "from scipy.stats import normaltest\n",
    "\n",
    "_, p = normaltest(notas1.rating)\n",
    "p"
   ]
  },
  {
   "cell_type": "code",
   "execution_count": 84,
   "id": "d1d8492f-43db-46b2-96b7-a10f8dc3bb08",
   "metadata": {},
   "outputs": [
    {
     "data": {
      "text/plain": [
       "np.float64(0.0003267718756440693)"
      ]
     },
     "execution_count": 84,
     "metadata": {},
     "output_type": "execute_result"
    }
   ],
   "source": [
    "from scipy.stats import ranksums\n",
    "\n",
    "_, p = ranksums(notas1.rating, notas593.rating)\n",
    "p"
   ]
  },
  {
   "cell_type": "code",
   "execution_count": null,
   "id": "16d28656-a78c-4f74-b135-82d7a93eca5c",
   "metadata": {},
   "outputs": [],
   "source": []
  }
 ],
 "metadata": {
  "kernelspec": {
   "display_name": "Python 3 (ipykernel)",
   "language": "python",
   "name": "python3"
  },
  "language_info": {
   "codemirror_mode": {
    "name": "ipython",
    "version": 3
   },
   "file_extension": ".py",
   "mimetype": "text/x-python",
   "name": "python",
   "nbconvert_exporter": "python",
   "pygments_lexer": "ipython3",
   "version": "3.12.7"
  }
 },
 "nbformat": 4,
 "nbformat_minor": 5
}
